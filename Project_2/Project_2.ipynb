{
  "cells": [
    {
      "cell_type": "markdown",
      "id": "42289889-bd57-434e-9637-d3e354756316",
      "metadata": {
        "id": "42289889-bd57-434e-9637-d3e354756316"
      },
      "source": [
        "<center> <img src = https://raw.githubusercontent.com/AndreyRysistov/DatasetsForPandas/main/hh%20label.jpg alt=\"drawing\" style=\"width:400px;\">"
      ]
    },
    {
      "cell_type": "markdown",
      "id": "829cb75b-f14e-4ba8-9195-7ba929a7d656",
      "metadata": {
        "id": "829cb75b-f14e-4ba8-9195-7ba929a7d656",
        "tags": []
      },
      "source": [
        "# <center> Проект: Анализ вакансий из HeadHunter\n",
        "   "
      ]
    },
    {
      "cell_type": "code",
      "execution_count": 1,
      "id": "dccfde33-2452-43fb-a8a5-5c6ebc02a71d",
      "metadata": {
        "id": "dccfde33-2452-43fb-a8a5-5c6ebc02a71d"
      },
      "outputs": [],
      "source": [
        "from sqlalchemy import create_engine\n",
        "import sqlalchemy\n",
        "import psycopg2\n",
        "\n",
        "import pandas as pd\n",
        "\n",
        "import requests \n",
        "from pprint import pprint \n",
        "from bs4 import BeautifulSoup \n",
        "\n",
        "import warnings\n",
        "warnings.filterwarnings('ignore')"
      ]
    },
    {
      "cell_type": "code",
      "execution_count": 2,
      "id": "oVKH4ehvf8Ay",
      "metadata": {
        "id": "oVKH4ehvf8Ay"
      },
      "outputs": [],
      "source": [
        "# вставьте сюда параметры подключения из юнита 1. Работа с базой данных из Python\n",
        "DBNAME = \n",
        "USER = \n",
        "PASSWORD = \n",
        "HOST = \n",
        "PORT = "
      ]
    },
    {
      "cell_type": "code",
      "execution_count": 3,
      "id": "G4X_q8KBf7SF",
      "metadata": {
        "id": "G4X_q8KBf7SF"
      },
      "outputs": [],
      "source": [
        "connection = psycopg2.connect(\n",
        "   dbname=DBNAME,\n",
        "   user=USER,\n",
        "   host=HOST,\n",
        "   password=PASSWORD,\n",
        "   port=PORT\n",
        ")"
      ]
    },
    {
      "cell_type": "markdown",
      "id": "0dc6476b-7a00-44f1-ac93-6e3baed33a29",
      "metadata": {
        "id": "0dc6476b-7a00-44f1-ac93-6e3baed33a29"
      },
      "source": [
        "# Юнит 3. Предварительный анализ данных"
      ]
    },
    {
      "cell_type": "markdown",
      "id": "889782b6-8d1c-410e-8920-e57f27917c64",
      "metadata": {
        "id": "889782b6-8d1c-410e-8920-e57f27917c64"
      },
      "source": [
        "1. Напишите запрос, который посчитает количество вакансий в нашей базе (вакансии находятся в таблице vacancies). "
      ]
    },
    {
      "cell_type": "code",
      "execution_count": 4,
      "id": "bc39e68e-ed02-4ee2-9235-7258a2f867a8",
      "metadata": {
        "id": "bc39e68e-ed02-4ee2-9235-7258a2f867a8"
      },
      "outputs": [],
      "source": [
        "# текст запроса\n",
        "query_3_1 = f'''\n",
        "            SELECT \n",
        "               COUNT(id)  \"Общее количество вакансий\"\n",
        "            FROM \n",
        "               public.vacancies\n",
        "        '''\n"
      ]
    },
    {
      "cell_type": "code",
      "execution_count": 5,
      "id": "7mAwtsk4hEHY",
      "metadata": {
        "id": "7mAwtsk4hEHY"
      },
      "outputs": [
        {
          "data": {
            "text/html": [
              "<div>\n",
              "<style scoped>\n",
              "    .dataframe tbody tr th:only-of-type {\n",
              "        vertical-align: middle;\n",
              "    }\n",
              "\n",
              "    .dataframe tbody tr th {\n",
              "        vertical-align: top;\n",
              "    }\n",
              "\n",
              "    .dataframe thead th {\n",
              "        text-align: right;\n",
              "    }\n",
              "</style>\n",
              "<table border=\"1\" class=\"dataframe\">\n",
              "  <thead>\n",
              "    <tr style=\"text-align: right;\">\n",
              "      <th></th>\n",
              "      <th>Общее количество вакансий</th>\n",
              "    </tr>\n",
              "  </thead>\n",
              "  <tbody>\n",
              "    <tr>\n",
              "      <th>0</th>\n",
              "      <td>49197</td>\n",
              "    </tr>\n",
              "  </tbody>\n",
              "</table>\n",
              "</div>"
            ],
            "text/plain": [
              "   Общее количество вакансий\n",
              "0                      49197"
            ]
          },
          "execution_count": 5,
          "metadata": {},
          "output_type": "execute_result"
        }
      ],
      "source": [
        "# результат запроса\n",
        "hh_df = pd.read_sql_query(query_3_1, connection)\n",
        "hh_df"
      ]
    },
    {
      "cell_type": "markdown",
      "id": "b583485d-1f9e-494e-ada4-80ffff7c53d6",
      "metadata": {
        "id": "b583485d-1f9e-494e-ada4-80ffff7c53d6"
      },
      "source": [
        "2. Напишите запрос, который посчитает количество работодателей (таблица employers). "
      ]
    },
    {
      "cell_type": "code",
      "execution_count": 6,
      "id": "5408c52c-3407-4a63-b25b-1aafa2322d28",
      "metadata": {
        "id": "5408c52c-3407-4a63-b25b-1aafa2322d28"
      },
      "outputs": [],
      "source": [
        "# текст запроса\n",
        "query_3_2 = f'''\n",
        "            SELECT \n",
        "               COUNT(id) \"Общее количество работодателей\"\n",
        "            FROM \n",
        "               public.employers\n",
        "        '''"
      ]
    },
    {
      "cell_type": "code",
      "execution_count": 7,
      "id": "jVL4eshKhdqc",
      "metadata": {
        "id": "jVL4eshKhdqc"
      },
      "outputs": [
        {
          "data": {
            "text/html": [
              "<div>\n",
              "<style scoped>\n",
              "    .dataframe tbody tr th:only-of-type {\n",
              "        vertical-align: middle;\n",
              "    }\n",
              "\n",
              "    .dataframe tbody tr th {\n",
              "        vertical-align: top;\n",
              "    }\n",
              "\n",
              "    .dataframe thead th {\n",
              "        text-align: right;\n",
              "    }\n",
              "</style>\n",
              "<table border=\"1\" class=\"dataframe\">\n",
              "  <thead>\n",
              "    <tr style=\"text-align: right;\">\n",
              "      <th></th>\n",
              "      <th>Общее количество работодателей</th>\n",
              "    </tr>\n",
              "  </thead>\n",
              "  <tbody>\n",
              "    <tr>\n",
              "      <th>0</th>\n",
              "      <td>23501</td>\n",
              "    </tr>\n",
              "  </tbody>\n",
              "</table>\n",
              "</div>"
            ],
            "text/plain": [
              "   Общее количество работодателей\n",
              "0                           23501"
            ]
          },
          "execution_count": 7,
          "metadata": {},
          "output_type": "execute_result"
        }
      ],
      "source": [
        "# результат запроса\n",
        "hh_df = pd.read_sql_query(query_3_2, connection)\n",
        "hh_df"
      ]
    },
    {
      "cell_type": "markdown",
      "id": "a2bfff1f-c975-4bf6-84be-2185d79dcb76",
      "metadata": {
        "id": "a2bfff1f-c975-4bf6-84be-2185d79dcb76"
      },
      "source": [
        "3. Посчитайте с помощью запроса количество регионов (таблица areas)."
      ]
    },
    {
      "cell_type": "code",
      "execution_count": 8,
      "id": "1m8QJwBYhey6",
      "metadata": {
        "id": "1m8QJwBYhey6"
      },
      "outputs": [],
      "source": [
        "# текст запроса\n",
        "query_3_3 = f'''\n",
        "            SELECT \n",
        "               COUNT(id) \"Общее количество регионов\"\n",
        "            FROM \n",
        "               public.areas\n",
        "        '''"
      ]
    },
    {
      "cell_type": "code",
      "execution_count": 9,
      "id": "EZsn9tlfhe7f",
      "metadata": {
        "id": "EZsn9tlfhe7f"
      },
      "outputs": [
        {
          "data": {
            "text/html": [
              "<div>\n",
              "<style scoped>\n",
              "    .dataframe tbody tr th:only-of-type {\n",
              "        vertical-align: middle;\n",
              "    }\n",
              "\n",
              "    .dataframe tbody tr th {\n",
              "        vertical-align: top;\n",
              "    }\n",
              "\n",
              "    .dataframe thead th {\n",
              "        text-align: right;\n",
              "    }\n",
              "</style>\n",
              "<table border=\"1\" class=\"dataframe\">\n",
              "  <thead>\n",
              "    <tr style=\"text-align: right;\">\n",
              "      <th></th>\n",
              "      <th>Общее количество регионов</th>\n",
              "    </tr>\n",
              "  </thead>\n",
              "  <tbody>\n",
              "    <tr>\n",
              "      <th>0</th>\n",
              "      <td>1362</td>\n",
              "    </tr>\n",
              "  </tbody>\n",
              "</table>\n",
              "</div>"
            ],
            "text/plain": [
              "   Общее количество регионов\n",
              "0                       1362"
            ]
          },
          "execution_count": 9,
          "metadata": {},
          "output_type": "execute_result"
        }
      ],
      "source": [
        "# результат запроса\n",
        "hh_df = pd.read_sql_query(query_3_3, connection)\n",
        "hh_df"
      ]
    },
    {
      "cell_type": "markdown",
      "id": "41bb59f3-53cc-4a67-a5bc-bedf573955e4",
      "metadata": {
        "id": "41bb59f3-53cc-4a67-a5bc-bedf573955e4"
      },
      "source": [
        "4. Посчитайте с помощью запроса количество сфер деятельности в базе (таблица industries)."
      ]
    },
    {
      "cell_type": "code",
      "execution_count": 10,
      "id": "d286cf4c-707b-4cd2-9190-7ab3587d04a1",
      "metadata": {
        "id": "d286cf4c-707b-4cd2-9190-7ab3587d04a1"
      },
      "outputs": [],
      "source": [
        "# текст запроса\n",
        "query_3_4 = f'''\n",
        "            SELECT \n",
        "               COUNT(id) \"Количество сфер деятельности\"\n",
        "            FROM \n",
        "               public.industries\n",
        "        '''"
      ]
    },
    {
      "cell_type": "code",
      "execution_count": 11,
      "id": "JYAaoZ4qhfzW",
      "metadata": {
        "id": "JYAaoZ4qhfzW"
      },
      "outputs": [
        {
          "data": {
            "text/html": [
              "<div>\n",
              "<style scoped>\n",
              "    .dataframe tbody tr th:only-of-type {\n",
              "        vertical-align: middle;\n",
              "    }\n",
              "\n",
              "    .dataframe tbody tr th {\n",
              "        vertical-align: top;\n",
              "    }\n",
              "\n",
              "    .dataframe thead th {\n",
              "        text-align: right;\n",
              "    }\n",
              "</style>\n",
              "<table border=\"1\" class=\"dataframe\">\n",
              "  <thead>\n",
              "    <tr style=\"text-align: right;\">\n",
              "      <th></th>\n",
              "      <th>Количество сфер деятельности</th>\n",
              "    </tr>\n",
              "  </thead>\n",
              "  <tbody>\n",
              "    <tr>\n",
              "      <th>0</th>\n",
              "      <td>294</td>\n",
              "    </tr>\n",
              "  </tbody>\n",
              "</table>\n",
              "</div>"
            ],
            "text/plain": [
              "   Количество сфер деятельности\n",
              "0                           294"
            ]
          },
          "execution_count": 11,
          "metadata": {},
          "output_type": "execute_result"
        }
      ],
      "source": [
        "# результат запроса\n",
        "hh_df = pd.read_sql_query(query_3_4, connection)\n",
        "hh_df"
      ]
    },
    {
      "cell_type": "markdown",
      "id": "9a8a2181-6914-448b-85f1-38f5f18b8a93",
      "metadata": {
        "id": "9a8a2181-6914-448b-85f1-38f5f18b8a93"
      },
      "source": [
        "***"
      ]
    },
    {
      "cell_type": "markdown",
      "id": "9b2e15bd",
      "metadata": {},
      "source": [
        "Выводы\n",
        "\n",
        "1. В среднем, на одного работодателя приходится по 2 вакансии.В свою очередь размещение более одной вакансии может указывать на различные причины:\n",
        "- большие объемы работы не могут быть выполнены одним работником;\n",
        "- работодатель \"перестраховывается\" и производит набор сразу двух работников для выбора лучшего по результатам испытательного срока;\n",
        "- работодатель \"закрывает\" потребности отдела, нанимая сразу двух работников, возможно с разным опытом работы и должностью, либо с разными навыками;\n",
        "- набор производится в том числе в филиалы организации.\n",
        "2. При этом следует учитывать следующий фактор: в базе www.HH.ru есть устаревшие, т.н. \"мертвые\" вакансии, что сразу уменьшает количество вакансий на одного работодателя.\n",
        "3. Поэтому без изучения других условий, в частности, географии работодателей, можно сделать только осторожные выводы, которые нельзя использовать для анализа рынка труда."
      ]
    },
    {
      "cell_type": "markdown",
      "id": "8d62a9f3-f64e-4fe7-bdac-c4dffa16155e",
      "metadata": {
        "id": "8d62a9f3-f64e-4fe7-bdac-c4dffa16155e"
      },
      "source": [
        "# Юнит 4. Детальный анализ вакансий"
      ]
    },
    {
      "cell_type": "markdown",
      "id": "93053d3d-b284-481a-9cf7-012d7014c0e0",
      "metadata": {
        "id": "93053d3d-b284-481a-9cf7-012d7014c0e0"
      },
      "source": [
        "1. Напишите запрос, который позволит узнать, сколько (cnt) вакансий в каждом регионе (area).\n",
        "Отсортируйте по количеству вакансий в порядке убывания."
      ]
    },
    {
      "cell_type": "code",
      "execution_count": 12,
      "id": "3f069da6-fdc9-4ae7-b514-fafe2675efd3",
      "metadata": {
        "id": "3f069da6-fdc9-4ae7-b514-fafe2675efd3"
      },
      "outputs": [],
      "source": [
        "# текст запроса\n",
        "query_4_1 = f'''\n",
        "            SELECT \n",
        "                COUNT(v.id) \"Количество вакансий\",\n",
        "                a.name \"Регион\"\n",
        "            FROM \n",
        "                public.vacancies v\n",
        "            JOIN public.areas a ON v.area_id=a.id \n",
        "            GROUP BY a.id \n",
        "            ORDER BY 1 DESC\n",
        "            LIMIT 5\n",
        "        '''"
      ]
    },
    {
      "cell_type": "code",
      "execution_count": 13,
      "id": "P7QL86hrjhRJ",
      "metadata": {
        "id": "P7QL86hrjhRJ"
      },
      "outputs": [
        {
          "data": {
            "text/html": [
              "<div>\n",
              "<style scoped>\n",
              "    .dataframe tbody tr th:only-of-type {\n",
              "        vertical-align: middle;\n",
              "    }\n",
              "\n",
              "    .dataframe tbody tr th {\n",
              "        vertical-align: top;\n",
              "    }\n",
              "\n",
              "    .dataframe thead th {\n",
              "        text-align: right;\n",
              "    }\n",
              "</style>\n",
              "<table border=\"1\" class=\"dataframe\">\n",
              "  <thead>\n",
              "    <tr style=\"text-align: right;\">\n",
              "      <th></th>\n",
              "      <th>Количество вакансий</th>\n",
              "      <th>Регион</th>\n",
              "    </tr>\n",
              "  </thead>\n",
              "  <tbody>\n",
              "    <tr>\n",
              "      <th>0</th>\n",
              "      <td>5333</td>\n",
              "      <td>Москва</td>\n",
              "    </tr>\n",
              "    <tr>\n",
              "      <th>1</th>\n",
              "      <td>2851</td>\n",
              "      <td>Санкт-Петербург</td>\n",
              "    </tr>\n",
              "    <tr>\n",
              "      <th>2</th>\n",
              "      <td>2112</td>\n",
              "      <td>Минск</td>\n",
              "    </tr>\n",
              "    <tr>\n",
              "      <th>3</th>\n",
              "      <td>2006</td>\n",
              "      <td>Новосибирск</td>\n",
              "    </tr>\n",
              "    <tr>\n",
              "      <th>4</th>\n",
              "      <td>1892</td>\n",
              "      <td>Алматы</td>\n",
              "    </tr>\n",
              "  </tbody>\n",
              "</table>\n",
              "</div>"
            ],
            "text/plain": [
              "   Количество вакансий           Регион\n",
              "0                 5333           Москва\n",
              "1                 2851  Санкт-Петербург\n",
              "2                 2112            Минск\n",
              "3                 2006      Новосибирск\n",
              "4                 1892           Алматы"
            ]
          },
          "execution_count": 13,
          "metadata": {},
          "output_type": "execute_result"
        }
      ],
      "source": [
        "# результат запроса\n",
        "hh_df = pd.read_sql_query(query_4_1, connection)\n",
        "hh_df"
      ]
    },
    {
      "cell_type": "markdown",
      "id": "4266f0b6-1646-492a-88b4-2f6a46502135",
      "metadata": {
        "id": "4266f0b6-1646-492a-88b4-2f6a46502135"
      },
      "source": [
        "2. Напишите запрос, чтобы определить у какого количества вакансий заполнено хотя бы одно из двух полей с зарплатой."
      ]
    },
    {
      "cell_type": "code",
      "execution_count": 14,
      "id": "0c44b350-72eb-4d65-8b54-a1fc449ba9fd",
      "metadata": {
        "id": "0c44b350-72eb-4d65-8b54-a1fc449ba9fd"
      },
      "outputs": [],
      "source": [
        "# текст запроса\n",
        "query_4_2 = f'''\n",
        "            SELECT \n",
        "                COUNT(*) \"Количество вакансий\"\n",
        "            FROM \n",
        "                public.vacancies v\n",
        "            WHERE  \n",
        "                salary_to IS NOT NULL \n",
        "                OR \n",
        "                salary_from IS NOT NULL\n",
        "        '''"
      ]
    },
    {
      "cell_type": "code",
      "execution_count": 15,
      "id": "rhvwaMDkoWTi",
      "metadata": {
        "id": "rhvwaMDkoWTi"
      },
      "outputs": [
        {
          "data": {
            "text/html": [
              "<div>\n",
              "<style scoped>\n",
              "    .dataframe tbody tr th:only-of-type {\n",
              "        vertical-align: middle;\n",
              "    }\n",
              "\n",
              "    .dataframe tbody tr th {\n",
              "        vertical-align: top;\n",
              "    }\n",
              "\n",
              "    .dataframe thead th {\n",
              "        text-align: right;\n",
              "    }\n",
              "</style>\n",
              "<table border=\"1\" class=\"dataframe\">\n",
              "  <thead>\n",
              "    <tr style=\"text-align: right;\">\n",
              "      <th></th>\n",
              "      <th>Количество вакансий</th>\n",
              "    </tr>\n",
              "  </thead>\n",
              "  <tbody>\n",
              "    <tr>\n",
              "      <th>0</th>\n",
              "      <td>24073</td>\n",
              "    </tr>\n",
              "  </tbody>\n",
              "</table>\n",
              "</div>"
            ],
            "text/plain": [
              "   Количество вакансий\n",
              "0                24073"
            ]
          },
          "execution_count": 15,
          "metadata": {},
          "output_type": "execute_result"
        }
      ],
      "source": [
        "# результат запроса\n",
        "hh_df = pd.read_sql_query(query_4_2, connection)\n",
        "hh_df"
      ]
    },
    {
      "cell_type": "markdown",
      "id": "635c4d5d-f323-4c66-b428-50a088120aa0",
      "metadata": {
        "id": "635c4d5d-f323-4c66-b428-50a088120aa0"
      },
      "source": [
        "3. Найдите средние значения для нижней и верхней границы зарплатной вилки. Округлите значения до целого."
      ]
    },
    {
      "cell_type": "code",
      "execution_count": 16,
      "id": "603cdbe4-0ec3-4106-8eaf-c73fcdd29165",
      "metadata": {
        "id": "603cdbe4-0ec3-4106-8eaf-c73fcdd29165"
      },
      "outputs": [],
      "source": [
        "# текст запроса\n",
        "query_4_3 = f'''\n",
        "            SELECT \n",
        "                round(avg(v.salary_from)):: int \"Минимальная средняя зарплата\",\n",
        "                round(avg(v.salary_to))::int \"Максимальная средняя зарплата\"\n",
        "            FROM \n",
        "                public.vacancies v\n",
        "            WHERE  \n",
        "                salary_to IS NOT NULL \n",
        "                or \n",
        "                salary_from is NOT NULL     \n",
        "        '''\n"
      ]
    },
    {
      "cell_type": "code",
      "execution_count": 17,
      "id": "pswpAb66ovZZ",
      "metadata": {
        "id": "pswpAb66ovZZ"
      },
      "outputs": [
        {
          "data": {
            "text/html": [
              "<div>\n",
              "<style scoped>\n",
              "    .dataframe tbody tr th:only-of-type {\n",
              "        vertical-align: middle;\n",
              "    }\n",
              "\n",
              "    .dataframe tbody tr th {\n",
              "        vertical-align: top;\n",
              "    }\n",
              "\n",
              "    .dataframe thead th {\n",
              "        text-align: right;\n",
              "    }\n",
              "</style>\n",
              "<table border=\"1\" class=\"dataframe\">\n",
              "  <thead>\n",
              "    <tr style=\"text-align: right;\">\n",
              "      <th></th>\n",
              "      <th>Минимальная средняя зарплата</th>\n",
              "      <th>Максимальная средняя зарплата</th>\n",
              "    </tr>\n",
              "  </thead>\n",
              "  <tbody>\n",
              "    <tr>\n",
              "      <th>0</th>\n",
              "      <td>71065</td>\n",
              "      <td>110537</td>\n",
              "    </tr>\n",
              "  </tbody>\n",
              "</table>\n",
              "</div>"
            ],
            "text/plain": [
              "   Минимальная средняя зарплата  Максимальная средняя зарплата\n",
              "0                         71065                         110537"
            ]
          },
          "execution_count": 17,
          "metadata": {},
          "output_type": "execute_result"
        }
      ],
      "source": [
        "\n",
        "# результат запроса\n",
        "hh_df = pd.read_sql_query(query_4_3, connection)\n",
        "hh_df"
      ]
    },
    {
      "cell_type": "markdown",
      "id": "f3fdaec9-5fd3-4260-9cf5-1d7406b628a5",
      "metadata": {
        "id": "f3fdaec9-5fd3-4260-9cf5-1d7406b628a5"
      },
      "source": [
        "4. Напишите запрос, который выведет количество вакансий для каждого сочетания типа рабочего графика (schedule) и типа трудоустройства (employment), используемого в вакансиях. Результат отсортируйте по убыванию количества.\n"
      ]
    },
    {
      "cell_type": "code",
      "execution_count": 18,
      "id": "1ea710ec-871b-431e-9462-c7d0fd87011b",
      "metadata": {
        "id": "1ea710ec-871b-431e-9462-c7d0fd87011b"
      },
      "outputs": [],
      "source": [
        "# текст запроса\n",
        "query_4_4 = f'''\n",
        "            SELECT \n",
        "                concat (v.schedule, ' - ', v.employment) \"Условия трудоустройства\",\n",
        "                COUNT(v.id) \"Количество вакансий\"\n",
        "            FROM \n",
        "                public.vacancies v\n",
        "            GROUP BY 1  \n",
        "            ORDER BY 2 DESC\n",
        "        '''"
      ]
    },
    {
      "cell_type": "code",
      "execution_count": 19,
      "id": "lGUVqavdo4JQ",
      "metadata": {
        "id": "lGUVqavdo4JQ"
      },
      "outputs": [
        {
          "data": {
            "text/html": [
              "<div>\n",
              "<style scoped>\n",
              "    .dataframe tbody tr th:only-of-type {\n",
              "        vertical-align: middle;\n",
              "    }\n",
              "\n",
              "    .dataframe tbody tr th {\n",
              "        vertical-align: top;\n",
              "    }\n",
              "\n",
              "    .dataframe thead th {\n",
              "        text-align: right;\n",
              "    }\n",
              "</style>\n",
              "<table border=\"1\" class=\"dataframe\">\n",
              "  <thead>\n",
              "    <tr style=\"text-align: right;\">\n",
              "      <th></th>\n",
              "      <th>Условия трудоустройства</th>\n",
              "      <th>Количество вакансий</th>\n",
              "    </tr>\n",
              "  </thead>\n",
              "  <tbody>\n",
              "    <tr>\n",
              "      <th>0</th>\n",
              "      <td>Полный день - Полная занятость</td>\n",
              "      <td>35367</td>\n",
              "    </tr>\n",
              "    <tr>\n",
              "      <th>1</th>\n",
              "      <td>Удаленная работа - Полная занятость</td>\n",
              "      <td>7802</td>\n",
              "    </tr>\n",
              "    <tr>\n",
              "      <th>2</th>\n",
              "      <td>Гибкий график - Полная занятость</td>\n",
              "      <td>1593</td>\n",
              "    </tr>\n",
              "    <tr>\n",
              "      <th>3</th>\n",
              "      <td>Удаленная работа - Частичная занятость</td>\n",
              "      <td>1312</td>\n",
              "    </tr>\n",
              "    <tr>\n",
              "      <th>4</th>\n",
              "      <td>Сменный график - Полная занятость</td>\n",
              "      <td>940</td>\n",
              "    </tr>\n",
              "    <tr>\n",
              "      <th>5</th>\n",
              "      <td>Полный день - Стажировка</td>\n",
              "      <td>569</td>\n",
              "    </tr>\n",
              "    <tr>\n",
              "      <th>6</th>\n",
              "      <td>Вахтовый метод - Полная занятость</td>\n",
              "      <td>367</td>\n",
              "    </tr>\n",
              "    <tr>\n",
              "      <th>7</th>\n",
              "      <td>Полный день - Частичная занятость</td>\n",
              "      <td>347</td>\n",
              "    </tr>\n",
              "    <tr>\n",
              "      <th>8</th>\n",
              "      <td>Гибкий график - Частичная занятость</td>\n",
              "      <td>312</td>\n",
              "    </tr>\n",
              "    <tr>\n",
              "      <th>9</th>\n",
              "      <td>Полный день - Проектная работа</td>\n",
              "      <td>141</td>\n",
              "    </tr>\n",
              "    <tr>\n",
              "      <th>10</th>\n",
              "      <td>Удаленная работа - Проектная работа</td>\n",
              "      <td>133</td>\n",
              "    </tr>\n",
              "    <tr>\n",
              "      <th>11</th>\n",
              "      <td>Гибкий график - Стажировка</td>\n",
              "      <td>116</td>\n",
              "    </tr>\n",
              "    <tr>\n",
              "      <th>12</th>\n",
              "      <td>Сменный график - Частичная занятость</td>\n",
              "      <td>101</td>\n",
              "    </tr>\n",
              "    <tr>\n",
              "      <th>13</th>\n",
              "      <td>Удаленная работа - Стажировка</td>\n",
              "      <td>64</td>\n",
              "    </tr>\n",
              "    <tr>\n",
              "      <th>14</th>\n",
              "      <td>Гибкий график - Проектная работа</td>\n",
              "      <td>18</td>\n",
              "    </tr>\n",
              "    <tr>\n",
              "      <th>15</th>\n",
              "      <td>Сменный график - Стажировка</td>\n",
              "      <td>12</td>\n",
              "    </tr>\n",
              "    <tr>\n",
              "      <th>16</th>\n",
              "      <td>Вахтовый метод - Проектная работа</td>\n",
              "      <td>2</td>\n",
              "    </tr>\n",
              "    <tr>\n",
              "      <th>17</th>\n",
              "      <td>Сменный график - Проектная работа</td>\n",
              "      <td>1</td>\n",
              "    </tr>\n",
              "  </tbody>\n",
              "</table>\n",
              "</div>"
            ],
            "text/plain": [
              "                   Условия трудоустройства  Количество вакансий\n",
              "0           Полный день - Полная занятость                35367\n",
              "1      Удаленная работа - Полная занятость                 7802\n",
              "2         Гибкий график - Полная занятость                 1593\n",
              "3   Удаленная работа - Частичная занятость                 1312\n",
              "4        Сменный график - Полная занятость                  940\n",
              "5                 Полный день - Стажировка                  569\n",
              "6        Вахтовый метод - Полная занятость                  367\n",
              "7        Полный день - Частичная занятость                  347\n",
              "8      Гибкий график - Частичная занятость                  312\n",
              "9           Полный день - Проектная работа                  141\n",
              "10     Удаленная работа - Проектная работа                  133\n",
              "11              Гибкий график - Стажировка                  116\n",
              "12    Сменный график - Частичная занятость                  101\n",
              "13           Удаленная работа - Стажировка                   64\n",
              "14        Гибкий график - Проектная работа                   18\n",
              "15             Сменный график - Стажировка                   12\n",
              "16       Вахтовый метод - Проектная работа                    2\n",
              "17       Сменный график - Проектная работа                    1"
            ]
          },
          "execution_count": 19,
          "metadata": {},
          "output_type": "execute_result"
        }
      ],
      "source": [
        "# результат запроса\n",
        "hh_df = pd.read_sql_query(query_4_4, connection)\n",
        "hh_df"
      ]
    },
    {
      "cell_type": "markdown",
      "id": "0136ffee-0ead-4a6b-b608-61d1c753a438",
      "metadata": {
        "id": "0136ffee-0ead-4a6b-b608-61d1c753a438"
      },
      "source": [
        "5. Напишите запрос, выводящий значения поля Требуемый опыт работы (experience) в порядке возрастания количества вакансий, в которых указан данный вариант опыта. "
      ]
    },
    {
      "cell_type": "code",
      "execution_count": 20,
      "id": "82eff6e3",
      "metadata": {},
      "outputs": [],
      "source": [
        "# текст запроса\n",
        "query_4_5 = f'''\n",
        "            SELECT  \n",
        "                v.experience \"Опыт работы\",\n",
        "                COUNT(v.id) \"Количество вакансий\"\n",
        "            FROM \n",
        "                public.vacancies v\n",
        "            WHERE \n",
        "                v.experience IS NOT NULL\n",
        "            GROUP BY 1 \n",
        "            ORDER BY 2\n",
        "        '''"
      ]
    },
    {
      "cell_type": "code",
      "execution_count": 21,
      "id": "3Is64Y-hpDpq",
      "metadata": {
        "id": "3Is64Y-hpDpq"
      },
      "outputs": [
        {
          "data": {
            "text/html": [
              "<div>\n",
              "<style scoped>\n",
              "    .dataframe tbody tr th:only-of-type {\n",
              "        vertical-align: middle;\n",
              "    }\n",
              "\n",
              "    .dataframe tbody tr th {\n",
              "        vertical-align: top;\n",
              "    }\n",
              "\n",
              "    .dataframe thead th {\n",
              "        text-align: right;\n",
              "    }\n",
              "</style>\n",
              "<table border=\"1\" class=\"dataframe\">\n",
              "  <thead>\n",
              "    <tr style=\"text-align: right;\">\n",
              "      <th></th>\n",
              "      <th>Опыт работы</th>\n",
              "      <th>Количество вакансий</th>\n",
              "    </tr>\n",
              "  </thead>\n",
              "  <tbody>\n",
              "    <tr>\n",
              "      <th>0</th>\n",
              "      <td>Более 6 лет</td>\n",
              "      <td>1337</td>\n",
              "    </tr>\n",
              "    <tr>\n",
              "      <th>1</th>\n",
              "      <td>Нет опыта</td>\n",
              "      <td>7197</td>\n",
              "    </tr>\n",
              "    <tr>\n",
              "      <th>2</th>\n",
              "      <td>От 3 до 6 лет</td>\n",
              "      <td>14511</td>\n",
              "    </tr>\n",
              "    <tr>\n",
              "      <th>3</th>\n",
              "      <td>От 1 года до 3 лет</td>\n",
              "      <td>26152</td>\n",
              "    </tr>\n",
              "  </tbody>\n",
              "</table>\n",
              "</div>"
            ],
            "text/plain": [
              "          Опыт работы  Количество вакансий\n",
              "0         Более 6 лет                 1337\n",
              "1           Нет опыта                 7197\n",
              "2       От 3 до 6 лет                14511\n",
              "3  От 1 года до 3 лет                26152"
            ]
          },
          "execution_count": 21,
          "metadata": {},
          "output_type": "execute_result"
        }
      ],
      "source": [
        "# результат запроса\n",
        "hh_df = pd.read_sql_query(query_4_5, connection)\n",
        "hh_df"
      ]
    },
    {
      "cell_type": "markdown",
      "id": "oq2b7n1QpIka",
      "metadata": {
        "id": "oq2b7n1QpIka"
      },
      "source": [
        "***"
      ]
    },
    {
      "cell_type": "markdown",
      "id": "10ddc73f",
      "metadata": {},
      "source": [
        "Выводы\n",
        "\n",
        "1. Выборка ТОП-5 состоит из следующих крупных городов-работодателей: Москва, Санкт-Петербург, Минск, Новосибирск, Алматы. На Москву приходится 37,6% вакансий ТОПа, что ожидаемо.Вторая столица разместила 20,1% вакансий. Однако следует помнить, что на вакансию, размещенную, например, в Москве, может устроиться специалист из любого другого региона на удаленную работу. Поэтому сделать какой-либо вывод о занятости в регионах только по местонахождению работодателя нельзя: надо учитывать и удаленный формат работы, и процент реально переехавших из регионов специалистов в города-миллионники.\n",
        "2. Не во всех вакансиях отражены финансовые условия работы в полном объеме, что указывает на готовность работодателя оговаривать точный размер зарплаты только после удачного прохождения соискателем собеседования.Одновременно с этим, внимание к таким вакансиям ниже.\n",
        "3. Данные, полученные по размерам средних минимальной и максимальной заработной платы, без изучения соотношения с опытом, регионом, графиком работы/расписанием, невозможно интерпретировать детально. Вполне ожидаемо, что зарплата будет выше в столицах, при большем опыте работы. \n",
        "4. Соотношение количества вакансий с опытом работы достаточно интересно: больше всего вакансий приходится на молодых специалистов с опытом от одного до трех лет (53%). Это может указывать на предложение низкой зарплаты с дальнейшим ее ростом, либо предложение места помощника более зрелого специалиста, либо (что имеет место на практике) неперспективное место работы с дальнейшим расторжением договора и наймом нового молодого сотрудника.\n",
        "Меньше всего вакансий размещено для соискателей с опытом более шести лет: либо такие сотрудники более требовательны к размеру зарплаты, либо большинство из них, как правило, имеют большой стаж работы на одном месте, т.е. значительно реже увольняются, что отражается на спросе на таких специалистов.\n",
        "5. Данные по графику работу ожидаемы: на первом месте вакансии \"Полный день - Полная занятость\". Это соответствует менталитету работодателя еще советского времени:работодатели готовы платить больше за нахождение в офисе, нежели за выполняемую работу.При этом период короновируса стал для работодателей испытанием с получением нового опыта: потеря контроля над работником из-за вынужденного перевода его на удаленную работу  некоторым работодателям открыла возможность получения не меньших результатов от работников и экономии затрат на офисные условия. Так же некоторые работодатели вынуждены уступить тенденции в желании работника осуществлять свои трудовые обязанности удаленно при полной занятости (такие вакансии заняли второе место)."
      ]
    },
    {
      "cell_type": "markdown",
      "id": "7ea20ab6-04a7-40a0-adec-443a0e5a42c3",
      "metadata": {
        "id": "7ea20ab6-04a7-40a0-adec-443a0e5a42c3"
      },
      "source": [
        "# Юнит 5. Анализ работодателей"
      ]
    },
    {
      "cell_type": "markdown",
      "id": "968aed80-74ef-4ffb-b5bf-c65b84e9caea",
      "metadata": {
        "id": "968aed80-74ef-4ffb-b5bf-c65b84e9caea"
      },
      "source": [
        "1. Напишите запрос, который позволит узнать, какие работодатели находятся на первом и пятом месте по количеству вакансий."
      ]
    },
    {
      "cell_type": "code",
      "execution_count": 22,
      "id": "f2d62796-d400-4ec1-a675-88112739a50e",
      "metadata": {
        "id": "f2d62796-d400-4ec1-a675-88112739a50e"
      },
      "outputs": [],
      "source": [
        "# текст запроса\n",
        "query_5_1 = f'''\n",
        "            (SELECT\n",
        "                e.name \"Наименование работодателя\", \n",
        "                COUNT(*) \"Количество вакансий\"\n",
        "            FROM vacancies v\n",
        "            JOIN employers e ON v.employer_id = e.id\n",
        "            GROUP BY e.name\n",
        "            ORDER BY 2 DESC\n",
        "            LIMIT 1)\n",
        "            UNION ALL\n",
        "            (SELECT \n",
        "                e.name \"Наименование работодателя\", \n",
        "                COUNT(*) \"Количество вакансий\"\n",
        "            FROM vacancies v\n",
        "            JOIN employers e ON v.employer_id = e.id\n",
        "            GROUP BY e.name\n",
        "            ORDER BY 2 DESC\n",
        "            OFFSET 4 \n",
        "            LIMIT 1)\n",
        "        '''"
      ]
    },
    {
      "cell_type": "code",
      "execution_count": 23,
      "id": "64tOMkAxqkQk",
      "metadata": {
        "id": "64tOMkAxqkQk"
      },
      "outputs": [
        {
          "data": {
            "text/html": [
              "<div>\n",
              "<style scoped>\n",
              "    .dataframe tbody tr th:only-of-type {\n",
              "        vertical-align: middle;\n",
              "    }\n",
              "\n",
              "    .dataframe tbody tr th {\n",
              "        vertical-align: top;\n",
              "    }\n",
              "\n",
              "    .dataframe thead th {\n",
              "        text-align: right;\n",
              "    }\n",
              "</style>\n",
              "<table border=\"1\" class=\"dataframe\">\n",
              "  <thead>\n",
              "    <tr style=\"text-align: right;\">\n",
              "      <th></th>\n",
              "      <th>Наименование работодателя</th>\n",
              "      <th>Количество вакансий</th>\n",
              "    </tr>\n",
              "  </thead>\n",
              "  <tbody>\n",
              "    <tr>\n",
              "      <th>0</th>\n",
              "      <td>Яндекс</td>\n",
              "      <td>1933</td>\n",
              "    </tr>\n",
              "    <tr>\n",
              "      <th>1</th>\n",
              "      <td>Газпром нефть</td>\n",
              "      <td>331</td>\n",
              "    </tr>\n",
              "  </tbody>\n",
              "</table>\n",
              "</div>"
            ],
            "text/plain": [
              "  Наименование работодателя  Количество вакансий\n",
              "0                    Яндекс                 1933\n",
              "1             Газпром нефть                  331"
            ]
          },
          "execution_count": 23,
          "metadata": {},
          "output_type": "execute_result"
        }
      ],
      "source": [
        "# результат запроса\n",
        "hh_df = pd.read_sql_query(query_5_1, connection)\n",
        "hh_df"
      ]
    },
    {
      "cell_type": "markdown",
      "id": "68377cfc-b378-43dc-ab7d-1195abf2c515",
      "metadata": {
        "id": "68377cfc-b378-43dc-ab7d-1195abf2c515"
      },
      "source": [
        "2. Напишите запрос, который для каждого региона выведет количество работодателей и вакансий в нём.\n",
        "Среди регионов, в которых нет вакансий, найдите тот, в котором наибольшее количество работодателей.\n"
      ]
    },
    {
      "cell_type": "code",
      "execution_count": 24,
      "id": "dd7df27a-e3e8-412e-a21a-5d389b71e891",
      "metadata": {
        "id": "dd7df27a-e3e8-412e-a21a-5d389b71e891"
      },
      "outputs": [],
      "source": [
        "# текст запроса\n",
        "query_5_2 = f'''\n",
        "            SELECT \n",
        "                a.name \"Регион\",\n",
        "                COUNT(e.id) \"Количество работодателей\",\n",
        "                COUNT(v.id) \"Количество вакансий\"\n",
        "            FROM \n",
        "                public.areas a\n",
        "            LEFT JOIN public.vacancies v ON v.area_id=a.id \n",
        "            LEFT JOIN public.employers e ON e.area=a.id\n",
        "            WHERE \n",
        "                v.id IS NULL\n",
        "            GROUP BY 1   \n",
        "            ORDER BY 2 DESC \n",
        "            LIMIT 1\n",
        "        '''"
      ]
    },
    {
      "cell_type": "code",
      "execution_count": 25,
      "id": "x1ikWbydrbf6",
      "metadata": {
        "id": "x1ikWbydrbf6"
      },
      "outputs": [
        {
          "data": {
            "text/html": [
              "<div>\n",
              "<style scoped>\n",
              "    .dataframe tbody tr th:only-of-type {\n",
              "        vertical-align: middle;\n",
              "    }\n",
              "\n",
              "    .dataframe tbody tr th {\n",
              "        vertical-align: top;\n",
              "    }\n",
              "\n",
              "    .dataframe thead th {\n",
              "        text-align: right;\n",
              "    }\n",
              "</style>\n",
              "<table border=\"1\" class=\"dataframe\">\n",
              "  <thead>\n",
              "    <tr style=\"text-align: right;\">\n",
              "      <th></th>\n",
              "      <th>Регион</th>\n",
              "      <th>Количество работодателей</th>\n",
              "      <th>Количество вакансий</th>\n",
              "    </tr>\n",
              "  </thead>\n",
              "  <tbody>\n",
              "    <tr>\n",
              "      <th>0</th>\n",
              "      <td>Россия</td>\n",
              "      <td>410</td>\n",
              "      <td>0</td>\n",
              "    </tr>\n",
              "  </tbody>\n",
              "</table>\n",
              "</div>"
            ],
            "text/plain": [
              "   Регион  Количество работодателей  Количество вакансий\n",
              "0  Россия                       410                    0"
            ]
          },
          "execution_count": 25,
          "metadata": {},
          "output_type": "execute_result"
        }
      ],
      "source": [
        "# результат запроса\n",
        "hh_df = pd.read_sql_query(query_5_2, connection)\n",
        "hh_df"
      ]
    },
    {
      "cell_type": "markdown",
      "id": "f2fe0acb-ab1a-4e15-9326-2560e22d73c1",
      "metadata": {
        "id": "f2fe0acb-ab1a-4e15-9326-2560e22d73c1"
      },
      "source": [
        "3. Для каждого работодателя посчитайте количество регионов, в которых он публикует свои вакансии. Отсортируйте результат по убыванию количества.\n"
      ]
    },
    {
      "cell_type": "code",
      "execution_count": 26,
      "id": "6271f8ad-bd2e-4196-ae4a-5b39c4c1010e",
      "metadata": {
        "id": "6271f8ad-bd2e-4196-ae4a-5b39c4c1010e"
      },
      "outputs": [],
      "source": [
        "# текст запроса\n",
        "query_5_3 = f'''\n",
        "            SELECT \n",
        "                e.name \"Наименование работодателя\",\n",
        "                COUNT(DISTINCT v.area_id) \"Количество регионов\"\n",
        "            FROM \n",
        "                public.vacancies v\n",
        "            JOIN public.employers e ON v.employer_id=e.id  \n",
        "            GROUP BY 1  \n",
        "            ORDER BY 2 DESC\n",
        "        '''"
      ]
    },
    {
      "cell_type": "code",
      "execution_count": 27,
      "id": "1EIvX3HasH4F",
      "metadata": {
        "id": "1EIvX3HasH4F"
      },
      "outputs": [
        {
          "data": {
            "text/html": [
              "<div>\n",
              "<style scoped>\n",
              "    .dataframe tbody tr th:only-of-type {\n",
              "        vertical-align: middle;\n",
              "    }\n",
              "\n",
              "    .dataframe tbody tr th {\n",
              "        vertical-align: top;\n",
              "    }\n",
              "\n",
              "    .dataframe thead th {\n",
              "        text-align: right;\n",
              "    }\n",
              "</style>\n",
              "<table border=\"1\" class=\"dataframe\">\n",
              "  <thead>\n",
              "    <tr style=\"text-align: right;\">\n",
              "      <th></th>\n",
              "      <th>Наименование работодателя</th>\n",
              "      <th>Количество регионов</th>\n",
              "    </tr>\n",
              "  </thead>\n",
              "  <tbody>\n",
              "    <tr>\n",
              "      <th>0</th>\n",
              "      <td>Яндекс</td>\n",
              "      <td>181</td>\n",
              "    </tr>\n",
              "    <tr>\n",
              "      <th>1</th>\n",
              "      <td>Ростелеком</td>\n",
              "      <td>152</td>\n",
              "    </tr>\n",
              "    <tr>\n",
              "      <th>2</th>\n",
              "      <td>Спецремонт</td>\n",
              "      <td>116</td>\n",
              "    </tr>\n",
              "    <tr>\n",
              "      <th>3</th>\n",
              "      <td>Поляков Денис Иванович</td>\n",
              "      <td>88</td>\n",
              "    </tr>\n",
              "    <tr>\n",
              "      <th>4</th>\n",
              "      <td>ООО ЕФИН</td>\n",
              "      <td>71</td>\n",
              "    </tr>\n",
              "    <tr>\n",
              "      <th>...</th>\n",
              "      <td>...</td>\n",
              "      <td>...</td>\n",
              "    </tr>\n",
              "    <tr>\n",
              "      <th>14761</th>\n",
              "      <td>UniSol</td>\n",
              "      <td>1</td>\n",
              "    </tr>\n",
              "    <tr>\n",
              "      <th>14762</th>\n",
              "      <td>UNISTORY LLC</td>\n",
              "      <td>1</td>\n",
              "    </tr>\n",
              "    <tr>\n",
              "      <th>14763</th>\n",
              "      <td>UNIT6</td>\n",
              "      <td>1</td>\n",
              "    </tr>\n",
              "    <tr>\n",
              "      <th>14764</th>\n",
              "      <td>United Distribution</td>\n",
              "      <td>1</td>\n",
              "    </tr>\n",
              "    <tr>\n",
              "      <th>14765</th>\n",
              "      <td>UNITEL LLC</td>\n",
              "      <td>1</td>\n",
              "    </tr>\n",
              "  </tbody>\n",
              "</table>\n",
              "<p>14766 rows × 2 columns</p>\n",
              "</div>"
            ],
            "text/plain": [
              "      Наименование работодателя  Количество регионов\n",
              "0                        Яндекс                  181\n",
              "1                    Ростелеком                  152\n",
              "2                    Спецремонт                  116\n",
              "3        Поляков Денис Иванович                   88\n",
              "4                     ООО ЕФИН                    71\n",
              "...                         ...                  ...\n",
              "14761                    UniSol                    1\n",
              "14762              UNISTORY LLC                    1\n",
              "14763                     UNIT6                    1\n",
              "14764       United Distribution                    1\n",
              "14765                UNITEL LLC                    1\n",
              "\n",
              "[14766 rows x 2 columns]"
            ]
          },
          "execution_count": 27,
          "metadata": {},
          "output_type": "execute_result"
        }
      ],
      "source": [
        "# результат запроса\n",
        "hh_df = pd.read_sql_query(query_5_3, connection)\n",
        "hh_df"
      ]
    },
    {
      "cell_type": "markdown",
      "id": "eab2206d-d95b-468b-8e5f-34381abf0ce7",
      "metadata": {
        "id": "eab2206d-d95b-468b-8e5f-34381abf0ce7"
      },
      "source": [
        "4. Напишите запрос для подсчёта количества работодателей, у которых не указана сфера деятельности. "
      ]
    },
    {
      "cell_type": "code",
      "execution_count": 28,
      "id": "80defb23-bfb1-4a18-8be6-bf36aa7165d5",
      "metadata": {
        "id": "80defb23-bfb1-4a18-8be6-bf36aa7165d5"
      },
      "outputs": [],
      "source": [
        "# текст запроса\n",
        "query_5_4 = f'''\n",
        "            SELECT \n",
        "                COUNT(e.id) \"Количество работодателей\"\n",
        "            FROM \n",
        "                public.employers e\n",
        "            LEFT JOIN public.employers_industries ei ON ei.employer_id=e.id  \n",
        "            WHERE \n",
        "                ei.industry_id IS NULL\n",
        "        '''"
      ]
    },
    {
      "cell_type": "code",
      "execution_count": 29,
      "id": "Dp_yCx6ysQSu",
      "metadata": {
        "id": "Dp_yCx6ysQSu"
      },
      "outputs": [
        {
          "data": {
            "text/html": [
              "<div>\n",
              "<style scoped>\n",
              "    .dataframe tbody tr th:only-of-type {\n",
              "        vertical-align: middle;\n",
              "    }\n",
              "\n",
              "    .dataframe tbody tr th {\n",
              "        vertical-align: top;\n",
              "    }\n",
              "\n",
              "    .dataframe thead th {\n",
              "        text-align: right;\n",
              "    }\n",
              "</style>\n",
              "<table border=\"1\" class=\"dataframe\">\n",
              "  <thead>\n",
              "    <tr style=\"text-align: right;\">\n",
              "      <th></th>\n",
              "      <th>Количество работодателей</th>\n",
              "    </tr>\n",
              "  </thead>\n",
              "  <tbody>\n",
              "    <tr>\n",
              "      <th>0</th>\n",
              "      <td>8419</td>\n",
              "    </tr>\n",
              "  </tbody>\n",
              "</table>\n",
              "</div>"
            ],
            "text/plain": [
              "   Количество работодателей\n",
              "0                      8419"
            ]
          },
          "execution_count": 29,
          "metadata": {},
          "output_type": "execute_result"
        }
      ],
      "source": [
        "# результат запроса\n",
        "hh_df = pd.read_sql_query(query_5_4, connection)\n",
        "hh_df"
      ]
    },
    {
      "cell_type": "markdown",
      "id": "0112af31-f6b0-4e3b-82ab-71296e752e5e",
      "metadata": {
        "id": "0112af31-f6b0-4e3b-82ab-71296e752e5e"
      },
      "source": [
        "5. Напишите запрос, чтобы узнать название компании, находящейся на третьем месте в алфавитном списке (по названию) компаний, у которых указано четыре сферы деятельности. "
      ]
    },
    {
      "cell_type": "code",
      "execution_count": 30,
      "id": "973b0cfc-a972-470a-8b4a-68744ef220c4",
      "metadata": {
        "id": "973b0cfc-a972-470a-8b4a-68744ef220c4"
      },
      "outputs": [],
      "source": [
        "# текст запроса\n",
        "query_5_5 = f'''\n",
        "            SELECT  \n",
        "                e.name \"Наименование работодателя\",\n",
        "                COUNT(*) \"Количество сфер деятельности\"\n",
        "            FROM \n",
        "                public.employers_industries ei\n",
        "            JOIN public.employers e ON ei.employer_id=e.id  \n",
        "            GROUP BY 1 \n",
        "            HAVING COUNT(ei.industry_id) = 4  \n",
        "            ORDER BY 1\n",
        "            LIMIT 3 \n",
        "            \n",
        "            \n",
        "        '''"
      ]
    },
    {
      "cell_type": "code",
      "execution_count": 31,
      "id": "xsPtpp8EsaED",
      "metadata": {
        "id": "xsPtpp8EsaED"
      },
      "outputs": [
        {
          "data": {
            "text/html": [
              "<div>\n",
              "<style scoped>\n",
              "    .dataframe tbody tr th:only-of-type {\n",
              "        vertical-align: middle;\n",
              "    }\n",
              "\n",
              "    .dataframe tbody tr th {\n",
              "        vertical-align: top;\n",
              "    }\n",
              "\n",
              "    .dataframe thead th {\n",
              "        text-align: right;\n",
              "    }\n",
              "</style>\n",
              "<table border=\"1\" class=\"dataframe\">\n",
              "  <thead>\n",
              "    <tr style=\"text-align: right;\">\n",
              "      <th></th>\n",
              "      <th>Наименование работодателя</th>\n",
              "      <th>Количество сфер деятельности</th>\n",
              "    </tr>\n",
              "  </thead>\n",
              "  <tbody>\n",
              "    <tr>\n",
              "      <th>0</th>\n",
              "      <td>101 Интернет</td>\n",
              "      <td>4</td>\n",
              "    </tr>\n",
              "    <tr>\n",
              "      <th>1</th>\n",
              "      <td>21vek.by</td>\n",
              "      <td>4</td>\n",
              "    </tr>\n",
              "    <tr>\n",
              "      <th>2</th>\n",
              "      <td>2ГИС</td>\n",
              "      <td>4</td>\n",
              "    </tr>\n",
              "  </tbody>\n",
              "</table>\n",
              "</div>"
            ],
            "text/plain": [
              "  Наименование работодателя  Количество сфер деятельности\n",
              "0              101 Интернет                             4\n",
              "1                  21vek.by                             4\n",
              "2                      2ГИС                             4"
            ]
          },
          "execution_count": 31,
          "metadata": {},
          "output_type": "execute_result"
        }
      ],
      "source": [
        "# результат запроса\n",
        "hh_df = pd.read_sql_query(query_5_5, connection)\n",
        "hh_df"
      ]
    },
    {
      "cell_type": "markdown",
      "id": "3bfcfdaf-755d-4d2b-8ed8-326201dc07ab",
      "metadata": {
        "id": "3bfcfdaf-755d-4d2b-8ed8-326201dc07ab"
      },
      "source": [
        "6. С помощью запроса выясните, у какого количества работодателей в качестве сферы деятельности указана Разработка программного обеспечения.\n"
      ]
    },
    {
      "cell_type": "code",
      "execution_count": 32,
      "id": "ad3f270f-2991-47eb-929b-e8f88a55b0d1",
      "metadata": {
        "id": "ad3f270f-2991-47eb-929b-e8f88a55b0d1"
      },
      "outputs": [],
      "source": [
        "# текст запроса\n",
        "query_5_6 = f'''\n",
        "            SELECT  \n",
        "                COUNT(e.id) \"Количество работодателей\"\n",
        "            FROM \n",
        "                public.employers e\n",
        "            JOIN public.employers_industries ei ON ei.employer_id=e.id  \n",
        "            JOIN public.industries i ON ei.industry_id=i.id  \n",
        "            WHERE i.name LIKE '%%Разработка программного обеспечения%%'\n",
        "        '''"
      ]
    },
    {
      "cell_type": "code",
      "execution_count": 33,
      "id": "H72qxWM0shPR",
      "metadata": {
        "id": "H72qxWM0shPR"
      },
      "outputs": [
        {
          "data": {
            "text/html": [
              "<div>\n",
              "<style scoped>\n",
              "    .dataframe tbody tr th:only-of-type {\n",
              "        vertical-align: middle;\n",
              "    }\n",
              "\n",
              "    .dataframe tbody tr th {\n",
              "        vertical-align: top;\n",
              "    }\n",
              "\n",
              "    .dataframe thead th {\n",
              "        text-align: right;\n",
              "    }\n",
              "</style>\n",
              "<table border=\"1\" class=\"dataframe\">\n",
              "  <thead>\n",
              "    <tr style=\"text-align: right;\">\n",
              "      <th></th>\n",
              "      <th>Количество работодателей</th>\n",
              "    </tr>\n",
              "  </thead>\n",
              "  <tbody>\n",
              "    <tr>\n",
              "      <th>0</th>\n",
              "      <td>3553</td>\n",
              "    </tr>\n",
              "  </tbody>\n",
              "</table>\n",
              "</div>"
            ],
            "text/plain": [
              "   Количество работодателей\n",
              "0                      3553"
            ]
          },
          "execution_count": 33,
          "metadata": {},
          "output_type": "execute_result"
        }
      ],
      "source": [
        "# результат запроса\n",
        "hh_df = pd.read_sql_query(query_5_6, connection)\n",
        "hh_df"
      ]
    },
    {
      "cell_type": "markdown",
      "id": "7b02bb86-0546-40fb-94a4-242f050a5c57",
      "metadata": {
        "id": "7b02bb86-0546-40fb-94a4-242f050a5c57"
      },
      "source": [
        "7. Для компании «Яндекс» выведите список регионов-миллионников, в которых представлены вакансии компании, вместе с количеством вакансий в этих регионах. Также добавьте строку Total с общим количеством вакансий компании. Результат отсортируйте по возрастанию количества.\n",
        "\n",
        "Список городов-милионников надо взять [отсюда](https://ru.wikipedia.org/wiki/%D0%93%D0%BE%D1%80%D0%BE%D0%B4%D0%B0-%D0%BC%D0%B8%D0%BB%D0%BB%D0%B8%D0%BE%D0%BD%D0%B5%D1%80%D1%8B_%D0%A0%D0%BE%D1%81%D1%81%D0%B8%D0%B8). \n",
        "\n",
        "Если возникнут трудности с этим заданием посмотрите материалы модуля  PYTHON-17. Как получать данные из веб-источников и API. "
      ]
    },
    {
      "cell_type": "code",
      "execution_count": 34,
      "id": "ZdfrL6gIs1Pn",
      "metadata": {
        "id": "ZdfrL6gIs1Pn"
      },
      "outputs": [],
      "source": [
        "url = 'https://ru.wikipedia.org/wiki/%D0%93%D0%BE%D1%80%D0%BE%D0%B4%D0%B0-%D0%BC%D0%B8%D0%BB%D0%BB%D0%B8%D0%BE%D0%BD%D0%B5%D1%80%D1%8B_%D0%A0%D0%BE%D1%81%D1%81%D0%B8%D0%B8' # Задаём адрес ресурса\n",
        "response = requests.get(url)\n",
        "\n",
        "hh_df = pd.DataFrame(pd.read_html(response.text)[1])\n",
        "cities = tuple(hh_df['Город'].apply(lambda x: x.strip('[a]')))\n"
      ]
    },
    {
      "cell_type": "code",
      "execution_count": 35,
      "id": "5a0e32a4-e68a-4365-8a39-2fe24c542c36",
      "metadata": {
        "id": "5a0e32a4-e68a-4365-8a39-2fe24c542c36"
      },
      "outputs": [],
      "source": [
        "# текст запроса \n",
        "query_5_7 = f'''\n",
        "            (SELECT  \n",
        "                a.name \"Название города\",\n",
        "                COUNT(v.id) \"Количество вакансий\"\n",
        "            FROM \n",
        "                public.areas a\n",
        "            JOIN public.vacancies v ON v.area_id=a.id  \n",
        "            JOIN public.employers e ON e.id=v.employer_id\n",
        "            WHERE \n",
        "                a.name IN {cities} AND e.name='Яндекс' \n",
        "            GROUP BY a.id)\n",
        "            UNION ALL  \n",
        "            (SELECT \n",
        "                'Всего вакансий',\n",
        "                COUNT(v.id)\n",
        "            FROM \n",
        "                public.areas a\n",
        "            JOIN public.vacancies v ON v.area_id=a.id\n",
        "            JOIN public.employers e ON e.id=v.employer_id\n",
        "            WHERE \n",
        "                a.name IN {cities} AND e.name='Яндекс')\n",
        "           ORDER BY 2\n",
        "        '''\n"
      ]
    },
    {
      "cell_type": "code",
      "execution_count": 36,
      "id": "ttPhiO1rsvPq",
      "metadata": {
        "id": "ttPhiO1rsvPq"
      },
      "outputs": [
        {
          "data": {
            "text/html": [
              "<div>\n",
              "<style scoped>\n",
              "    .dataframe tbody tr th:only-of-type {\n",
              "        vertical-align: middle;\n",
              "    }\n",
              "\n",
              "    .dataframe tbody tr th {\n",
              "        vertical-align: top;\n",
              "    }\n",
              "\n",
              "    .dataframe thead th {\n",
              "        text-align: right;\n",
              "    }\n",
              "</style>\n",
              "<table border=\"1\" class=\"dataframe\">\n",
              "  <thead>\n",
              "    <tr style=\"text-align: right;\">\n",
              "      <th></th>\n",
              "      <th>Название города</th>\n",
              "      <th>Количество вакансий</th>\n",
              "    </tr>\n",
              "  </thead>\n",
              "  <tbody>\n",
              "    <tr>\n",
              "      <th>0</th>\n",
              "      <td>Омск</td>\n",
              "      <td>21</td>\n",
              "    </tr>\n",
              "    <tr>\n",
              "      <th>1</th>\n",
              "      <td>Челябинск</td>\n",
              "      <td>22</td>\n",
              "    </tr>\n",
              "    <tr>\n",
              "      <th>2</th>\n",
              "      <td>Красноярск</td>\n",
              "      <td>23</td>\n",
              "    </tr>\n",
              "    <tr>\n",
              "      <th>3</th>\n",
              "      <td>Волгоград</td>\n",
              "      <td>24</td>\n",
              "    </tr>\n",
              "    <tr>\n",
              "      <th>4</th>\n",
              "      <td>Пермь</td>\n",
              "      <td>25</td>\n",
              "    </tr>\n",
              "    <tr>\n",
              "      <th>5</th>\n",
              "      <td>Казань</td>\n",
              "      <td>25</td>\n",
              "    </tr>\n",
              "    <tr>\n",
              "      <th>6</th>\n",
              "      <td>Ростов-на-Дону</td>\n",
              "      <td>25</td>\n",
              "    </tr>\n",
              "    <tr>\n",
              "      <th>7</th>\n",
              "      <td>Самара</td>\n",
              "      <td>26</td>\n",
              "    </tr>\n",
              "    <tr>\n",
              "      <th>8</th>\n",
              "      <td>Уфа</td>\n",
              "      <td>26</td>\n",
              "    </tr>\n",
              "    <tr>\n",
              "      <th>9</th>\n",
              "      <td>Краснодар</td>\n",
              "      <td>30</td>\n",
              "    </tr>\n",
              "    <tr>\n",
              "      <th>10</th>\n",
              "      <td>Воронеж</td>\n",
              "      <td>32</td>\n",
              "    </tr>\n",
              "    <tr>\n",
              "      <th>11</th>\n",
              "      <td>Новосибирск</td>\n",
              "      <td>35</td>\n",
              "    </tr>\n",
              "    <tr>\n",
              "      <th>12</th>\n",
              "      <td>Нижний Новгород</td>\n",
              "      <td>36</td>\n",
              "    </tr>\n",
              "    <tr>\n",
              "      <th>13</th>\n",
              "      <td>Екатеринбург</td>\n",
              "      <td>39</td>\n",
              "    </tr>\n",
              "    <tr>\n",
              "      <th>14</th>\n",
              "      <td>Санкт-Петербург</td>\n",
              "      <td>42</td>\n",
              "    </tr>\n",
              "    <tr>\n",
              "      <th>15</th>\n",
              "      <td>Москва</td>\n",
              "      <td>54</td>\n",
              "    </tr>\n",
              "    <tr>\n",
              "      <th>16</th>\n",
              "      <td>Всего вакансий</td>\n",
              "      <td>485</td>\n",
              "    </tr>\n",
              "  </tbody>\n",
              "</table>\n",
              "</div>"
            ],
            "text/plain": [
              "    Название города  Количество вакансий\n",
              "0              Омск                   21\n",
              "1         Челябинск                   22\n",
              "2        Красноярск                   23\n",
              "3         Волгоград                   24\n",
              "4             Пермь                   25\n",
              "5            Казань                   25\n",
              "6    Ростов-на-Дону                   25\n",
              "7            Самара                   26\n",
              "8               Уфа                   26\n",
              "9         Краснодар                   30\n",
              "10          Воронеж                   32\n",
              "11      Новосибирск                   35\n",
              "12  Нижний Новгород                   36\n",
              "13     Екатеринбург                   39\n",
              "14  Санкт-Петербург                   42\n",
              "15           Москва                   54\n",
              "16   Всего вакансий                  485"
            ]
          },
          "execution_count": 36,
          "metadata": {},
          "output_type": "execute_result"
        }
      ],
      "source": [
        "# результат запроса\n",
        "hh_df = pd.read_sql_query(query_5_7, connection)\n",
        "hh_df"
      ]
    },
    {
      "cell_type": "markdown",
      "id": "04966e40-3bc3-4dc8-9ba2-e80580ce3abc",
      "metadata": {
        "id": "04966e40-3bc3-4dc8-9ba2-e80580ce3abc"
      },
      "source": [
        "***"
      ]
    },
    {
      "cell_type": "markdown",
      "id": "0039cee6",
      "metadata": {},
      "source": [
        "Выводы\n",
        "\n",
        "1. Вакансии в первой десятке принадлежат крупным компаниям. Обращает на себя внимание некая зависимость нахождения в рейтинге от степени участия компании /использования в своей деятельности продуктов IT.  На первом месте по количеству вакансий заслуженно находится Яндекс, компания с широким спектром услуг, в том числе в сфере IT.На втором месте располагается Ростелеком, который широко представлен в этой же сфере. А вот компании Тензор и Контур, представляющие услуги в более узкой сфере, несмотря на большую сеть филиалов, меньше нуждаются в новых сотрудниках.\n",
        "2. Указание России в качестве своего региона создает затруднения в изучении вакансий. Хотя такой вариант все же возможен в случае размещения вакансии с удаленным форматом работы, хотя и не является корректным. \n",
        "3. Результаты запроса подтверждают версию о разнообразии услуг, оказываемых работодателем, а также его представленности в регионах, что свойственно крупным игрокам на рынке. Лидирует Яндекс с охватом 181 региона.\n",
        "4. Почти каждый третий работодатель по неизвестной причине не указывает в вакансиях сферу деятельности. Если крупные компании известны, то мелкие игроки либо делающие первые шаги в бизнесе делают большую ошибку, не считая эту информацию важной. При размещении вакансии необходимо учитывать, что соискатели, желающие построить карьеру в конкретной профессии, часто ищут вакансии у работодателей, которые специализируются в этой сфере деятельности. Для некорьериста сфера деятельности работодателя не так важна, но такой специалист скорее всего будет иметь меньшее стремление совершенствоваться, что может отразиться в последствии на качестве работы.\n",
        "5. Количество сфер деятельности напрямую зависит от количества услуг/товаров, которые компания может предложить потребителям/бизнесу.Чем меньше сфер деятельности, тем выше должна быть востребована услуга/товар этой сферы.Например, у 1С, оказывающей услуги автоматизации бизнес-процесса предприятия, программное обеспечение общепризнано и не имеет аналогов в РФ. Хорошим признаком является наличие нескольких сфер деятельности, взаимосвязанных и дополняющих друг друга. У 2ГИС 4 сферы деятельности, у Билайна -6, что соответствует информации, известной о разнообразии оказываемых ими услуг.При изучении работодателей интересно отметить одинаковое количество сфер деятельности у компаний, занимающихся фармацевтикой и медизделиями: у Abbott, Bayer, B.Braun по 5 сфер. При этом в Alcon, продающей контактные линзы, сфер тоже 5. Возможно, такое количество связано с требованиями лицензирования деятельности.\n",
        "6. Среди всех работодателей, в качестве сферы деятельности Разработку Программного обеспечения указали 3553 работодателя, что составляет 15,12%. При этом работодатели, услугами которых мы пользуемся ежедневно (браузеры, социальные сети, платежные системы и прочее), но указавшие в качестве сферы деятельности \"Интернет-компании\", значительно меньше - 1675 (7,13%).\n",
        "7. Распределение вакансий Яндекса по городам-миллионникам четко зависит от количества населения и статуса города: столицы занимают первые места.Из 485 вакансий 11,13% приходится на Москву, а 8,66%- на Санкт-Петербург."
      ]
    },
    {
      "cell_type": "markdown",
      "id": "b1ef156a-efcb-49ce-bb23-90763e7f35b2",
      "metadata": {
        "id": "b1ef156a-efcb-49ce-bb23-90763e7f35b2",
        "tags": []
      },
      "source": [
        "# Юнит 6. Предметный анализ"
      ]
    },
    {
      "cell_type": "markdown",
      "id": "b9cd50a0-992d-4988-8463-2b2b1c4629b4",
      "metadata": {
        "id": "b9cd50a0-992d-4988-8463-2b2b1c4629b4"
      },
      "source": [
        "1. Сколько вакансий имеет отношение к данным?\n",
        "\n",
        "Считаем, что вакансия имеет отношение к данным, если в её названии содержатся слова 'data' или 'данн'.\n",
        "\n",
        "*Подсказка: Обратите внимание, что названия вакансий могут быть написаны в любом регистре.* \n"
      ]
    },
    {
      "cell_type": "code",
      "execution_count": 37,
      "id": "54ab0e50-c0f1-47cc-a54b-bc5c8bc363f9",
      "metadata": {
        "id": "54ab0e50-c0f1-47cc-a54b-bc5c8bc363f9"
      },
      "outputs": [],
      "source": [
        "# текст запроса\n",
        "query_6_1 = f'''\n",
        "            SELECT  \n",
        "                COUNT(v.id) \"Количество вакансий\"\n",
        "            FROM\n",
        "                public.vacancies v\n",
        "            WHERE \n",
        "                LOWER(v.name) LIKE '%%data%%' OR LOWER(v.name) LIKE '%%данн%%'\n",
        "        '''"
      ]
    },
    {
      "cell_type": "code",
      "execution_count": 38,
      "id": "9F1meAqsuUjd",
      "metadata": {
        "id": "9F1meAqsuUjd"
      },
      "outputs": [
        {
          "data": {
            "text/html": [
              "<div>\n",
              "<style scoped>\n",
              "    .dataframe tbody tr th:only-of-type {\n",
              "        vertical-align: middle;\n",
              "    }\n",
              "\n",
              "    .dataframe tbody tr th {\n",
              "        vertical-align: top;\n",
              "    }\n",
              "\n",
              "    .dataframe thead th {\n",
              "        text-align: right;\n",
              "    }\n",
              "</style>\n",
              "<table border=\"1\" class=\"dataframe\">\n",
              "  <thead>\n",
              "    <tr style=\"text-align: right;\">\n",
              "      <th></th>\n",
              "      <th>Количество вакансий</th>\n",
              "    </tr>\n",
              "  </thead>\n",
              "  <tbody>\n",
              "    <tr>\n",
              "      <th>0</th>\n",
              "      <td>1771</td>\n",
              "    </tr>\n",
              "  </tbody>\n",
              "</table>\n",
              "</div>"
            ],
            "text/plain": [
              "   Количество вакансий\n",
              "0                 1771"
            ]
          },
          "execution_count": 38,
          "metadata": {},
          "output_type": "execute_result"
        }
      ],
      "source": [
        "# результат запроса\n",
        "hh_df = pd.read_sql_query(query_6_1, connection)\n",
        "hh_df"
      ]
    },
    {
      "cell_type": "markdown",
      "id": "4dea20cb-a36b-474a-a0b9-e08e8e3857a5",
      "metadata": {
        "id": "4dea20cb-a36b-474a-a0b9-e08e8e3857a5"
      },
      "source": [
        "2. Сколько есть подходящих вакансий для начинающего дата-сайентиста? \n",
        "Будем считать вакансиями для дата-сайентистов такие, в названии которых есть хотя бы одно из следующих сочетаний:\n",
        "* 'data scientist'\n",
        "* 'data science'\n",
        "* 'исследователь данных'\n",
        "* 'ML' (здесь не нужно брать вакансии по HTML)\n",
        "* 'machine learning'\n",
        "* 'машинн%обучен%'\n",
        "\n",
        "** В следующих заданиях мы продолжим работать с вакансиями по этому условию.*\n",
        "\n",
        "Считаем вакансиями для специалистов уровня Junior следующие:\n",
        "* в названии есть слово 'junior' *или*\n",
        "* требуемый опыт — Нет опыта *или*\n",
        "* тип трудоустройства — Стажировка.\n",
        " "
      ]
    },
    {
      "cell_type": "code",
      "execution_count": 39,
      "id": "9c61b3c0-bb66-46c9-ae1e-81d3f5752b4a",
      "metadata": {
        "id": "9c61b3c0-bb66-46c9-ae1e-81d3f5752b4a"
      },
      "outputs": [],
      "source": [
        "# текст запроса\n",
        "query_6_2 = f'''\n",
        "            SELECT \n",
        "                COUNT(*) \"Количество вакансий\"\n",
        "            FROM \n",
        "                public.vacancies\n",
        "            WHERE\n",
        "                (LOWER(name) LIKE '%%data scientist%%' OR \n",
        "                LOWER(name) LIKE '%%data science%%' OR\n",
        "                LOWER(name) LIKE '%%исследователь данных%%' OR\n",
        "                LOWER(name) LIKE '%%machine learning%%' OR\n",
        "                LOWER(name) LIKE '%%машинн%%обучен%%' OR\n",
        "                (name NOT LIKE '%HTML%' AND name LIKE '%ML%'))\n",
        "                AND (LOWER(name) LIKE '%%junior%%'  \n",
        "                OR experience='Нет опыта'\n",
        "                OR employment='Стажировка')\n",
        "        '''\n",
        "        "
      ]
    },
    {
      "cell_type": "code",
      "execution_count": 40,
      "id": "ZNM-LLYuu1dj",
      "metadata": {
        "id": "ZNM-LLYuu1dj"
      },
      "outputs": [
        {
          "data": {
            "text/html": [
              "<div>\n",
              "<style scoped>\n",
              "    .dataframe tbody tr th:only-of-type {\n",
              "        vertical-align: middle;\n",
              "    }\n",
              "\n",
              "    .dataframe tbody tr th {\n",
              "        vertical-align: top;\n",
              "    }\n",
              "\n",
              "    .dataframe thead th {\n",
              "        text-align: right;\n",
              "    }\n",
              "</style>\n",
              "<table border=\"1\" class=\"dataframe\">\n",
              "  <thead>\n",
              "    <tr style=\"text-align: right;\">\n",
              "      <th></th>\n",
              "      <th>Количество вакансий</th>\n",
              "    </tr>\n",
              "  </thead>\n",
              "  <tbody>\n",
              "    <tr>\n",
              "      <th>0</th>\n",
              "      <td>51</td>\n",
              "    </tr>\n",
              "  </tbody>\n",
              "</table>\n",
              "</div>"
            ],
            "text/plain": [
              "   Количество вакансий\n",
              "0                   51"
            ]
          },
          "execution_count": 40,
          "metadata": {},
          "output_type": "execute_result"
        }
      ],
      "source": [
        "# результат запроса\n",
        "hh_df = pd.read_sql_query(query_6_2, connection)\n",
        "hh_df"
      ]
    },
    {
      "cell_type": "markdown",
      "id": "eedceb80-c5ca-480e-b27a-278dfb8b4438",
      "metadata": {
        "id": "eedceb80-c5ca-480e-b27a-278dfb8b4438"
      },
      "source": [
        "3. Сколько есть вакансий для DS, в которых в качестве ключевого навыка указан SQL или postgres?\n",
        "\n",
        "** Критерии для отнесения вакансии к DS указаны в предыдущем задании.*"
      ]
    },
    {
      "cell_type": "code",
      "execution_count": 41,
      "id": "69621713-0cc5-4f1b-a1d7-bb144fa6148c",
      "metadata": {
        "id": "69621713-0cc5-4f1b-a1d7-bb144fa6148c"
      },
      "outputs": [],
      "source": [
        "# текст запроса\n",
        "query_6_3 = f'''\n",
        "            SELECT \n",
        "                COUNT(*) \"Количество вакансий\"\n",
        "            FROM \n",
        "                public.vacancies\n",
        "            WHERE\n",
        "                (LOWER(name) LIKE '%%data scientist%%' OR \n",
        "                LOWER(name) LIKE '%%data science%%' OR\n",
        "                LOWER(name) LIKE '%%исследователь данных%%' OR\n",
        "                LOWER(name) LIKE '%%machine learning%%' OR\n",
        "                LOWER(name) LIKE '%%машинн%%обучен%%' OR\n",
        "                (name NOT LIKE '%HTML%' AND name LIKE '%ML%'))\n",
        "                AND (UPPER(key_skills) LIKE '%%SQL%%'\n",
        "                OR LOWER(key_skills) LIKE '%%postgres%%')\n",
        "        '''"
      ]
    },
    {
      "cell_type": "code",
      "execution_count": 42,
      "id": "alA8WEAAvGdf",
      "metadata": {
        "id": "alA8WEAAvGdf"
      },
      "outputs": [
        {
          "data": {
            "text/html": [
              "<div>\n",
              "<style scoped>\n",
              "    .dataframe tbody tr th:only-of-type {\n",
              "        vertical-align: middle;\n",
              "    }\n",
              "\n",
              "    .dataframe tbody tr th {\n",
              "        vertical-align: top;\n",
              "    }\n",
              "\n",
              "    .dataframe thead th {\n",
              "        text-align: right;\n",
              "    }\n",
              "</style>\n",
              "<table border=\"1\" class=\"dataframe\">\n",
              "  <thead>\n",
              "    <tr style=\"text-align: right;\">\n",
              "      <th></th>\n",
              "      <th>Количество вакансий</th>\n",
              "    </tr>\n",
              "  </thead>\n",
              "  <tbody>\n",
              "    <tr>\n",
              "      <th>0</th>\n",
              "      <td>201</td>\n",
              "    </tr>\n",
              "  </tbody>\n",
              "</table>\n",
              "</div>"
            ],
            "text/plain": [
              "   Количество вакансий\n",
              "0                  201"
            ]
          },
          "execution_count": 42,
          "metadata": {},
          "output_type": "execute_result"
        }
      ],
      "source": [
        "# результат запроса\n",
        "hh_df = pd.read_sql_query(query_6_3, connection)\n",
        "hh_df"
      ]
    },
    {
      "cell_type": "markdown",
      "id": "1be1e9c6-37cf-4a5f-bfeb-04cab799dc80",
      "metadata": {
        "id": "1be1e9c6-37cf-4a5f-bfeb-04cab799dc80"
      },
      "source": [
        "4. Проверьте, насколько популярен Python в требованиях работодателей к DS.Для этого вычислите количество вакансий, в которых в качестве ключевого навыка указан Python.\n",
        "\n",
        "** Это можно сделать помощью запроса, аналогичного предыдущему.*"
      ]
    },
    {
      "cell_type": "code",
      "execution_count": 43,
      "id": "0036a355-9ccf-4564-8b01-73d8194297e7",
      "metadata": {
        "id": "0036a355-9ccf-4564-8b01-73d8194297e7"
      },
      "outputs": [],
      "source": [
        "# текст запроса\n",
        "query_6_4 = f'''\n",
        "            SELECT \n",
        "                COUNT(*) \"Количество вакансий\"\n",
        "            FROM \n",
        "                public.vacancies\n",
        "            WHERE\n",
        "                (LOWER(name) LIKE '%%data scientist%%' OR \n",
        "                LOWER(name) LIKE '%%data science%%' OR\n",
        "                LOWER(name) LIKE '%%исследователь данных%%' OR\n",
        "                LOWER(name) LIKE '%%machine learning%%' OR\n",
        "                LOWER(name) LIKE '%%машинн%обучен%%' OR\n",
        "                (name NOT LIKE '%%HTML%%' AND name LIKE '%%ML%%'))\n",
        "                AND LOWER(key_skills) LIKE '%%python%%'\n",
        "        '''"
      ]
    },
    {
      "cell_type": "code",
      "execution_count": 44,
      "id": "d5a1c19b",
      "metadata": {},
      "outputs": [
        {
          "data": {
            "text/html": [
              "<div>\n",
              "<style scoped>\n",
              "    .dataframe tbody tr th:only-of-type {\n",
              "        vertical-align: middle;\n",
              "    }\n",
              "\n",
              "    .dataframe tbody tr th {\n",
              "        vertical-align: top;\n",
              "    }\n",
              "\n",
              "    .dataframe thead th {\n",
              "        text-align: right;\n",
              "    }\n",
              "</style>\n",
              "<table border=\"1\" class=\"dataframe\">\n",
              "  <thead>\n",
              "    <tr style=\"text-align: right;\">\n",
              "      <th></th>\n",
              "      <th>Количество вакансий</th>\n",
              "    </tr>\n",
              "  </thead>\n",
              "  <tbody>\n",
              "    <tr>\n",
              "      <th>0</th>\n",
              "      <td>351</td>\n",
              "    </tr>\n",
              "  </tbody>\n",
              "</table>\n",
              "</div>"
            ],
            "text/plain": [
              "   Количество вакансий\n",
              "0                  351"
            ]
          },
          "execution_count": 44,
          "metadata": {},
          "output_type": "execute_result"
        }
      ],
      "source": [
        "# результат запроса \n",
        "hh_df = pd.read_sql_query(query_6_4, connection)\n",
        "hh_df"
      ]
    },
    {
      "cell_type": "markdown",
      "id": "ec3c8db7-fa21-4a41-a994-1af63742a642",
      "metadata": {
        "id": "ec3c8db7-fa21-4a41-a994-1af63742a642"
      },
      "source": [
        "5. Сколько ключевых навыков в среднем указывают в вакансиях для DS?\n",
        "Ответ округлите до двух знаков после точки-разделителя."
      ]
    },
    {
      "cell_type": "code",
      "execution_count": 45,
      "id": "949132bc-d5b6-4611-8218-0b9a504d74f4",
      "metadata": {
        "id": "949132bc-d5b6-4611-8218-0b9a504d74f4"
      },
      "outputs": [],
      "source": [
        "# текст запроса\n",
        "query_6_5 = f'''\n",
        "            SELECT \n",
        "                (ROUND(AVG(LENGTH(key_skills) - LENGTH(REPLACE(key_skills, CHR(9), '')) + 1),2)) \"Количество ключевых навыков\"\n",
        "            FROM \n",
        "                public.vacancies\n",
        "            WHERE\n",
        "                (LOWER(name) LIKE '%%data scientist%%' OR \n",
        "                LOWER(name) LIKE '%%data science%%' OR\n",
        "                LOWER(name) LIKE '%%исследователь данных%%' OR\n",
        "                LOWER(name) likE '%%machine learning%%' OR\n",
        "                LOWER(name) LIKE '%%машинн%обучен%%' OR\n",
        "                (name NOT LIKE '%%HTML%%' AND name LIKE '%%ML%%'))\n",
        "                AND key_skills IS NOT NULL\n",
        "        '''"
      ]
    },
    {
      "cell_type": "code",
      "execution_count": 46,
      "id": "d5ffb4b7",
      "metadata": {},
      "outputs": [
        {
          "data": {
            "text/html": [
              "<div>\n",
              "<style scoped>\n",
              "    .dataframe tbody tr th:only-of-type {\n",
              "        vertical-align: middle;\n",
              "    }\n",
              "\n",
              "    .dataframe tbody tr th {\n",
              "        vertical-align: top;\n",
              "    }\n",
              "\n",
              "    .dataframe thead th {\n",
              "        text-align: right;\n",
              "    }\n",
              "</style>\n",
              "<table border=\"1\" class=\"dataframe\">\n",
              "  <thead>\n",
              "    <tr style=\"text-align: right;\">\n",
              "      <th></th>\n",
              "      <th>Количество ключевых навыков</th>\n",
              "    </tr>\n",
              "  </thead>\n",
              "  <tbody>\n",
              "    <tr>\n",
              "      <th>0</th>\n",
              "      <td>6.41</td>\n",
              "    </tr>\n",
              "  </tbody>\n",
              "</table>\n",
              "</div>"
            ],
            "text/plain": [
              "   Количество ключевых навыков\n",
              "0                         6.41"
            ]
          },
          "execution_count": 46,
          "metadata": {},
          "output_type": "execute_result"
        }
      ],
      "source": [
        "#результат запроса\n",
        "hh_df = pd.read_sql_query(query_6_5, connection)\n",
        "hh_df"
      ]
    },
    {
      "cell_type": "markdown",
      "id": "1041c17a-ca8f-4543-a0ca-32778914fb00",
      "metadata": {
        "id": "1041c17a-ca8f-4543-a0ca-32778914fb00"
      },
      "source": [
        "6. Напишите запрос, позволяющий вычислить, какую зарплату для DS в **среднем** указывают для каждого типа требуемого опыта (уникальное значение из поля *experience*). \n",
        "\n",
        "При решении задачи примите во внимание следующее:\n",
        "1. Рассматриваем только вакансии, у которых заполнено хотя бы одно из двух полей с зарплатой.\n",
        "2. Если заполнены оба поля с зарплатой, то считаем зарплату по каждой вакансии как сумму двух полей, делённую на 2. Если заполнено только одно из полей, то его и считаем зарплатой по вакансии.\n",
        "3. Если в расчётах участвует null, в результате он тоже даст null (посмотрите, что возвращает запрос select 1 + null). Чтобы избежать этой ситуацию, мы воспользуемся функцией [coalesce](https://postgrespro.ru/docs/postgresql/9.5/functions-conditional#functions-coalesce-nvl-ifnull), которая заменит null на значение, которое мы передадим. Например, посмотрите, что возвращает запрос `select 1 + coalesce(null, 0)`\n",
        "\n",
        "Выясните, на какую зарплату в среднем может рассчитывать дата-сайентист с опытом работы от 3 до 6 лет. Результат округлите до целого числа. "
      ]
    },
    {
      "cell_type": "code",
      "execution_count": 47,
      "id": "6a743d39-5204-48d3-8271-b9f88e68d40e",
      "metadata": {
        "id": "6a743d39-5204-48d3-8271-b9f88e68d40e"
      },
      "outputs": [],
      "source": [
        "# текст запроса  \n",
        "query_6_6 = f'''\n",
        "            SELECT \n",
        "                experience \"Опыт работы\",\n",
        "                AVG((coalesce(salary_from, salary_to) + coalesce(salary_to, salary_from))/2)::int \"Размер зарплаты\"\n",
        "            FROM \n",
        "                public.vacancies\n",
        "            WHERE\n",
        "                (LOWER(name) LIKE '%%data scientist%%' OR \n",
        "                LOWER(name) LIKE '%%data science%%' OR\n",
        "                LOWER(name) LIKE '%%исследователь данных%%' OR\n",
        "                LOWER(name) LIKE '%%machine learning%%' OR\n",
        "                LOWER(name) LIKE '%%машинн%обучен%%' OR\n",
        "                (name NOT LIKE '%%HTML%%' AND name LIKE '%%ML%%'))\n",
        "                AND (salary_from IS NOT NULL OR\n",
        "                salary_to IS NOT NULL)\n",
        "            GROUP BY 1\n",
        "        '''"
      ]
    },
    {
      "cell_type": "code",
      "execution_count": 48,
      "id": "608eaa87",
      "metadata": {},
      "outputs": [
        {
          "data": {
            "text/html": [
              "<div>\n",
              "<style scoped>\n",
              "    .dataframe tbody tr th:only-of-type {\n",
              "        vertical-align: middle;\n",
              "    }\n",
              "\n",
              "    .dataframe tbody tr th {\n",
              "        vertical-align: top;\n",
              "    }\n",
              "\n",
              "    .dataframe thead th {\n",
              "        text-align: right;\n",
              "    }\n",
              "</style>\n",
              "<table border=\"1\" class=\"dataframe\">\n",
              "  <thead>\n",
              "    <tr style=\"text-align: right;\">\n",
              "      <th></th>\n",
              "      <th>Опыт работы</th>\n",
              "      <th>Размер зарплаты</th>\n",
              "    </tr>\n",
              "  </thead>\n",
              "  <tbody>\n",
              "    <tr>\n",
              "      <th>0</th>\n",
              "      <td>Нет опыта</td>\n",
              "      <td>74643</td>\n",
              "    </tr>\n",
              "    <tr>\n",
              "      <th>1</th>\n",
              "      <td>От 1 года до 3 лет</td>\n",
              "      <td>139675</td>\n",
              "    </tr>\n",
              "    <tr>\n",
              "      <th>2</th>\n",
              "      <td>От 3 до 6 лет</td>\n",
              "      <td>243115</td>\n",
              "    </tr>\n",
              "  </tbody>\n",
              "</table>\n",
              "</div>"
            ],
            "text/plain": [
              "          Опыт работы  Размер зарплаты\n",
              "0           Нет опыта            74643\n",
              "1  От 1 года до 3 лет           139675\n",
              "2       От 3 до 6 лет           243115"
            ]
          },
          "execution_count": 48,
          "metadata": {},
          "output_type": "execute_result"
        }
      ],
      "source": [
        "# результат запроса \n",
        "hh_df = pd.read_sql_query(query_6_6, connection)\n",
        "hh_df"
      ]
    },
    {
      "cell_type": "markdown",
      "id": "6a7892b4-4113-4746-adce-18aa2844f18e",
      "metadata": {
        "id": "6a7892b4-4113-4746-adce-18aa2844f18e"
      },
      "source": [
        "***"
      ]
    },
    {
      "cell_type": "markdown",
      "id": "ac76ea1a",
      "metadata": {},
      "source": [
        "Выводы\n",
        "\n",
        "1. Вакансий, имеющих отношение к работе с данными (основываясь на прямом упоминании ключевых слов в самом названии вакансии), в базе насчитывается 1771. Делать выводы на этом основании не следует, т.к. необходимые навыки для работы с данными могут быть указаны в key_skills.\n",
        "2. Для начинающего карьеру в сфере DS в базе представлена 51 вакансия.\n",
        "3. Знание SQL или postgres в качестве ключевого навыка указано в 201 вакансии. Более популярен из навыков -Python: 351 вакансия содержит знание этого языка как необходимый навык.\n",
        "4. В среднем для DS работодатели указывают в вакансиях 6,41 ключевых навыков.\n",
        "5. Размер средней заработной платы находится в зависимости от опыта работы: 74643  рублей для начинающего DS без опыта до 243115 рублей с опытом до 6 лет.\n",
        "\n",
        "Следует отдельно отметить следующее. В данном задании производилась фильтрация вакансий по ключевым словам в их названии. Однако в список попали \"лишние\" вакансии, например, \"Разработчик C++\", у которого в навыках указан язык QML. Добавив в запрос в имени отсутствие C++ количество вакансий стало равно 469 в отличие от правильного ответа в 480 вакансий (информация к размышлению, поэтому решение задач в данном проекте сделано в соответствии с правильными ответами)."
      ]
    },
    {
      "cell_type": "markdown",
      "id": "c0ED6fh7wiBT",
      "metadata": {
        "id": "c0ED6fh7wiBT"
      },
      "source": [
        "# Общий вывод по проекту"
      ]
    },
    {
      "cell_type": "markdown",
      "id": "aaf555dd",
      "metadata": {},
      "source": [
        "1. Специалисты по работе с данными в целом востребованы на рынке труда, на что указывает уровень зарплаты даже для специалиста без опыта работы. Основная масса вакансий рассчитана на молодых специалистов с опытом 1-3 лет.\n",
        "2. Основными ключевыми навыками (среди более 6 в среднем) являются Python и SQL/Postgres.\n",
        "3. Большая часть вакансии размещена крупными работодателями с большой сетью филиалов, ассортиментом оказываемых услуг, сфер деятельности, уровня технического развития.\n",
        "4. Наличие вакансий в разных рагионах дает возможность трудоустраиваться не выезжая за пределы своего региона (в т.ч. на условиях удаленного формата работы), что снижает процент переездов в столицы."
      ]
    },
    {
      "cell_type": "markdown",
      "id": "a4199c6f",
      "metadata": {},
      "source": [
        "## Дополнительное исследование"
      ]
    },
    {
      "cell_type": "markdown",
      "id": "fd602565",
      "metadata": {},
      "source": [
        "Посмотрим ТОП-10 работодателей больше всего размещающих вакансии для DS"
      ]
    },
    {
      "cell_type": "code",
      "execution_count": 49,
      "id": "6fd751c6",
      "metadata": {},
      "outputs": [],
      "source": [
        "query_7_1 = f'''\n",
        "            SELECT \n",
        "                e.name \"Наименование работодателя\",\n",
        "                COUNT(ds.id) \"Количество DS-вакансий\"\n",
        "            FROM \n",
        "                (SELECT *\n",
        "                FROM vacancies \n",
        "            WHERE LOWER(name) LIKE '%%data scientist%%' OR\n",
        "                LOWER(name) LIKE '%%data science%%' OR\n",
        "                LOWER(name) LIKE '%%исследователь данных%%' OR\n",
        "                (name NOT LIKE '%%HTML%%' AND name LIKE '%%ML%%') OR\n",
        "                LOWER(name) LIKE '%%machine learning%%' OR\n",
        "                LOWER(name) LIKE '%%машинн%обучен%%') ds\n",
        "            JOIN employers e ON e.id = ds.employer_id\n",
        "            GROUP BY 1\n",
        "            ORDER BY 2 DESC\n",
        "            LIMIT 10\n",
        "        '''"
      ]
    },
    {
      "cell_type": "code",
      "execution_count": 50,
      "id": "7fa5a2a4",
      "metadata": {},
      "outputs": [
        {
          "data": {
            "text/html": [
              "<div>\n",
              "<style scoped>\n",
              "    .dataframe tbody tr th:only-of-type {\n",
              "        vertical-align: middle;\n",
              "    }\n",
              "\n",
              "    .dataframe tbody tr th {\n",
              "        vertical-align: top;\n",
              "    }\n",
              "\n",
              "    .dataframe thead th {\n",
              "        text-align: right;\n",
              "    }\n",
              "</style>\n",
              "<table border=\"1\" class=\"dataframe\">\n",
              "  <thead>\n",
              "    <tr style=\"text-align: right;\">\n",
              "      <th></th>\n",
              "      <th>Наименование работодателя</th>\n",
              "      <th>Количество DS-вакансий</th>\n",
              "    </tr>\n",
              "  </thead>\n",
              "  <tbody>\n",
              "    <tr>\n",
              "      <th>0</th>\n",
              "      <td>СБЕР</td>\n",
              "      <td>37</td>\n",
              "    </tr>\n",
              "    <tr>\n",
              "      <th>1</th>\n",
              "      <td>Bell Integrator</td>\n",
              "      <td>25</td>\n",
              "    </tr>\n",
              "    <tr>\n",
              "      <th>2</th>\n",
              "      <td>Банк ВТБ (ПАО)</td>\n",
              "      <td>18</td>\n",
              "    </tr>\n",
              "    <tr>\n",
              "      <th>3</th>\n",
              "      <td>VK</td>\n",
              "      <td>15</td>\n",
              "    </tr>\n",
              "    <tr>\n",
              "      <th>4</th>\n",
              "      <td>Positive Technologies</td>\n",
              "      <td>11</td>\n",
              "    </tr>\n",
              "    <tr>\n",
              "      <th>5</th>\n",
              "      <td>Яндекс</td>\n",
              "      <td>9</td>\n",
              "    </tr>\n",
              "    <tr>\n",
              "      <th>6</th>\n",
              "      <td>EvenBet Gaming</td>\n",
              "      <td>9</td>\n",
              "    </tr>\n",
              "    <tr>\n",
              "      <th>7</th>\n",
              "      <td>МегаФон</td>\n",
              "      <td>8</td>\n",
              "    </tr>\n",
              "    <tr>\n",
              "      <th>8</th>\n",
              "      <td>Andersen</td>\n",
              "      <td>7</td>\n",
              "    </tr>\n",
              "    <tr>\n",
              "      <th>9</th>\n",
              "      <td>Ozon</td>\n",
              "      <td>6</td>\n",
              "    </tr>\n",
              "  </tbody>\n",
              "</table>\n",
              "</div>"
            ],
            "text/plain": [
              "  Наименование работодателя  Количество DS-вакансий\n",
              "0                      СБЕР                      37\n",
              "1           Bell Integrator                      25\n",
              "2            Банк ВТБ (ПАО)                      18\n",
              "3                        VK                      15\n",
              "4     Positive Technologies                      11\n",
              "5                    Яндекс                       9\n",
              "6            EvenBet Gaming                       9\n",
              "7                   МегаФон                       8\n",
              "8                  Andersen                       7\n",
              "9                      Ozon                       6"
            ]
          },
          "execution_count": 50,
          "metadata": {},
          "output_type": "execute_result"
        }
      ],
      "source": [
        "hh_df = pd.read_sql_query(query_7_1, connection)\n",
        "hh_df"
      ]
    },
    {
      "cell_type": "markdown",
      "id": "841dca68",
      "metadata": {},
      "source": [
        "Вывод\n",
        "1. Несмотря на то, что Яндекс занимает первую строчку по количеству вакансий в целом, лидирует в количеству регионов представления вакансий, при запросе о количестве вакансий в сфере DS он находится только на 6 месте. При этом в данном анализе лидирует СБЕР, который позже Яндекса принял решение модернизироваться и расширять цифровой формат услуг и ведение бизнеса, и, видимо, экстренно \"нагоняет\" упущенное.\n",
        "2. На 10 месте находится популярный маркетплейс Озон, однако вакансий DS не очень много, что,видимо, связано со спецификой такого бизнеса, который не требует большого штата сотрудников в целом и услуг DS в режиме nonstop."
      ]
    },
    {
      "cell_type": "markdown",
      "id": "6c19a61f",
      "metadata": {},
      "source": [
        "Работа с данными требует знаний английского языка. Сколько работодателей указали такой навык для специалистов в сфере DS?"
      ]
    },
    {
      "cell_type": "code",
      "execution_count": 51,
      "id": "a6b325ef",
      "metadata": {},
      "outputs": [],
      "source": [
        "query_7_2 = f'''\n",
        "            (SELECT \n",
        "                'Количество вакансий с английским языком'\"Условие выбора\" ,\n",
        "                COUNT(*) \"Количество\"\n",
        "            FROM \n",
        "                public.vacancies\n",
        "            WHERE\n",
        "                (LOWER(name) LIKE '%%data scientist%%' OR \n",
        "                LOWER(name) LIKE '%%data science%%' OR\n",
        "                LOWER(name) LIKE '%%исследователь данных%%' OR\n",
        "                LOWER(name) LIKE '%machine learning%%' OR\n",
        "                LOWER(name) LIKE '%%машинн%обучен%%' OR\n",
        "                (name NOT LIKE '%%HTML%%' AND name LIKE '%%ML%%'))\n",
        "                AND (key_skills LIKE '%Английский%' OR key_skills LIKE '%%English%%'))\n",
        "              \n",
        "            UNION ALL          \n",
        "              \n",
        "              \n",
        "             (SELECT \n",
        "              'Всего вакансий' \"Условие выбора\",\n",
        "                COUNT(*) \n",
        "                FROM \n",
        "                public.vacancies\n",
        "            WHERE\n",
        "                (LOWER(name) LIKE '%%data scientist%%' OR \n",
        "                LOWER(name) LIKE '%%data science%%' OR\n",
        "                LOWER(name) LIKE '%%исследователь данных%%' OR\n",
        "                LOWER(name) LIKE '%%machine learning%%' OR\n",
        "                LOWER(name) LIKE '%%машинн%обучен%%' OR\n",
        "                (name NOT LIKE '%%HTML%%' AND name LIKE '%%ML%%')))\n",
        "            ORDER BY 2\n",
        "        '''\n",
        "    "
      ]
    },
    {
      "cell_type": "code",
      "execution_count": 52,
      "id": "210df87a",
      "metadata": {},
      "outputs": [
        {
          "data": {
            "text/html": [
              "<div>\n",
              "<style scoped>\n",
              "    .dataframe tbody tr th:only-of-type {\n",
              "        vertical-align: middle;\n",
              "    }\n",
              "\n",
              "    .dataframe tbody tr th {\n",
              "        vertical-align: top;\n",
              "    }\n",
              "\n",
              "    .dataframe thead th {\n",
              "        text-align: right;\n",
              "    }\n",
              "</style>\n",
              "<table border=\"1\" class=\"dataframe\">\n",
              "  <thead>\n",
              "    <tr style=\"text-align: right;\">\n",
              "      <th></th>\n",
              "      <th>Условие выбора</th>\n",
              "      <th>Количество</th>\n",
              "    </tr>\n",
              "  </thead>\n",
              "  <tbody>\n",
              "    <tr>\n",
              "      <th>0</th>\n",
              "      <td>Количество вакансий с английским языком</td>\n",
              "      <td>50</td>\n",
              "    </tr>\n",
              "    <tr>\n",
              "      <th>1</th>\n",
              "      <td>Всего вакансий</td>\n",
              "      <td>480</td>\n",
              "    </tr>\n",
              "  </tbody>\n",
              "</table>\n",
              "</div>"
            ],
            "text/plain": [
              "                            Условие выбора  Количество\n",
              "0  Количество вакансий с английским языком          50\n",
              "1                           Всего вакансий         480"
            ]
          },
          "execution_count": 52,
          "metadata": {},
          "output_type": "execute_result"
        }
      ],
      "source": [
        "hh_df = pd.read_sql_query(query_7_2, connection)\n",
        "hh_df"
      ]
    },
    {
      "cell_type": "markdown",
      "id": "0c01ae5e",
      "metadata": {},
      "source": [
        "Вывод\n",
        "1. Знание английского языка, как навык, указан только в 50 вакансиях из 480, что составляет 10,4%. \n",
        "2. При этом отсутствие такого навыка не указывает на его ненужность, возможно такой навык подразумевается по умолчанию."
      ]
    },
    {
      "cell_type": "code",
      "execution_count": null,
      "id": "1495e4e7",
      "metadata": {},
      "outputs": [],
      "source": [
        "#закрываем соединение после окончания работы\n",
        "connection.close()"
      ]
    }
  ],
  "metadata": {
    "colab": {
      "collapsed_sections": [
        "8d62a9f3-f64e-4fe7-bdac-c4dffa16155e"
      ],
      "provenance": []
    },
    "kernelspec": {
      "display_name": "Python 3.9.12 64-bit",
      "language": "python",
      "name": "python3"
    },
    "language_info": {
      "codemirror_mode": {
        "name": "ipython",
        "version": 3
      },
      "file_extension": ".py",
      "mimetype": "text/x-python",
      "name": "python",
      "nbconvert_exporter": "python",
      "pygments_lexer": "ipython3",
      "version": "3.9.12"
    },
    "vscode": {
      "interpreter": {
        "hash": "046f10b25c8b1f27dd1653a018ccb6f1c516333cde543a8beb4ff61a3025525b"
      }
    }
  },
  "nbformat": 4,
  "nbformat_minor": 5
}
